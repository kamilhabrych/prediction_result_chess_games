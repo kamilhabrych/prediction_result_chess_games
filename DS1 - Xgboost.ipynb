{
  "cells": [
    {
      "cell_type": "code",
      "execution_count": null,
      "metadata": {
        "id": "eS1vBJhRE530"
      },
      "outputs": [],
      "source": [
        "import pandas as pd\n",
        "from sklearn.model_selection import train_test_split\n",
        "from sklearn.model_selection import cross_val_score\n",
        "from sklearn.metrics import classification_report\n",
        "import matplotlib.pyplot as plt\n",
        "from sklearn.metrics import accuracy_score, log_loss\n",
        "from sklearn.neighbors import KNeighborsClassifier\n",
        "from sklearn.svm import SVC, LinearSVC, NuSVC\n",
        "from sklearn.tree import DecisionTreeClassifier\n",
        "from sklearn.ensemble import RandomForestClassifier, AdaBoostClassifier, GradientBoostingClassifier\n",
        "from sklearn.naive_bayes import GaussianNB\n",
        "from sklearn.discriminant_analysis import LinearDiscriminantAnalysis\n",
        "from sklearn.discriminant_analysis import QuadraticDiscriminantAnalysis\n",
        "\n",
        "from sklearn.preprocessing import LabelEncoder\n",
        "from sklearn.model_selection import train_test_split\n",
        "from sklearn.ensemble import RandomForestClassifier\n",
        "from xgboost import XGBClassifier\n",
        "from sklearn.metrics import accuracy_score"
      ]
    },
    {
      "cell_type": "code",
      "source": [
        "from google.colab import files\n",
        "\n",
        "uploaded = files.upload()"
      ],
      "metadata": {
        "colab": {
          "resources": {
            "http://localhost:8080/nbextensions/google.colab/files.js": {
              "data": "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",
              "ok": true,
              "headers": [
                [
                  "content-type",
                  "application/javascript"
                ]
              ],
              "status": 200,
              "status_text": ""
            }
          },
          "base_uri": "https://localhost:8080/",
          "height": 74
        },
        "id": "q7k3DPoBFAHA",
        "outputId": "5f27c966-7a3f-4ba5-d096-c3fb886e9ae0"
      },
      "execution_count": null,
      "outputs": [
        {
          "output_type": "display_data",
          "data": {
            "text/html": [
              "\n",
              "     <input type=\"file\" id=\"files-882e31ca-d685-4cb9-b8a6-d3281d73c895\" name=\"files[]\" multiple disabled\n",
              "        style=\"border:none\" />\n",
              "     <output id=\"result-882e31ca-d685-4cb9-b8a6-d3281d73c895\">\n",
              "      Upload widget is only available when the cell has been executed in the\n",
              "      current browser session. Please rerun this cell to enable.\n",
              "      </output>\n",
              "      <script src=\"/nbextensions/google.colab/files.js\"></script> "
            ],
            "text/plain": [
              "<IPython.core.display.HTML object>"
            ]
          },
          "metadata": {}
        },
        {
          "output_type": "stream",
          "name": "stdout",
          "text": [
            "Saving df_sample.csv to df_sample (1).csv\n"
          ]
        }
      ]
    },
    {
      "cell_type": "code",
      "execution_count": null,
      "metadata": {
        "id": "o-0YQMjCE535"
      },
      "outputs": [],
      "source": [
        "df_sample = pd.read_csv('df_sample.csv')"
      ]
    },
    {
      "cell_type": "code",
      "source": [
        "df_sample['EloDiff'] = df_sample['WhiteElo'] - df_sample['BlackElo']\n",
        "df_sample.drop(['BlackElo','WhiteElo'],axis=1,inplace=True)"
      ],
      "metadata": {
        "id": "LT0OFGz-T1xu"
      },
      "execution_count": null,
      "outputs": []
    },
    {
      "cell_type": "code",
      "execution_count": null,
      "metadata": {
        "colab": {
          "base_uri": "https://localhost:8080/",
          "height": 206
        },
        "id": "bpmqRcTUE536",
        "outputId": "86161a15-c8b0-48ce-e8c3-87cebe555540"
      },
      "outputs": [
        {
          "output_type": "execute_result",
          "data": {
            "text/html": [
              "\n",
              "  <div id=\"df-6b39dc82-c221-472d-a972-4b3f76f155f3\">\n",
              "    <div class=\"colab-df-container\">\n",
              "      <div>\n",
              "<style scoped>\n",
              "    .dataframe tbody tr th:only-of-type {\n",
              "        vertical-align: middle;\n",
              "    }\n",
              "\n",
              "    .dataframe tbody tr th {\n",
              "        vertical-align: top;\n",
              "    }\n",
              "\n",
              "    .dataframe thead th {\n",
              "        text-align: right;\n",
              "    }\n",
              "</style>\n",
              "<table border=\"1\" class=\"dataframe\">\n",
              "  <thead>\n",
              "    <tr style=\"text-align: right;\">\n",
              "      <th></th>\n",
              "      <th>Result</th>\n",
              "      <th>WhiteElo</th>\n",
              "      <th>BlackElo</th>\n",
              "      <th>Event_enc</th>\n",
              "      <th>ECO_enc</th>\n",
              "      <th>Termination_enc</th>\n",
              "      <th>TimeControl_enc</th>\n",
              "    </tr>\n",
              "  </thead>\n",
              "  <tbody>\n",
              "    <tr>\n",
              "      <th>0</th>\n",
              "      <td>1</td>\n",
              "      <td>1721</td>\n",
              "      <td>1746</td>\n",
              "      <td>1</td>\n",
              "      <td>311</td>\n",
              "      <td>1</td>\n",
              "      <td>5</td>\n",
              "    </tr>\n",
              "    <tr>\n",
              "      <th>1</th>\n",
              "      <td>1</td>\n",
              "      <td>1319</td>\n",
              "      <td>1182</td>\n",
              "      <td>2</td>\n",
              "      <td>101</td>\n",
              "      <td>1</td>\n",
              "      <td>13</td>\n",
              "    </tr>\n",
              "    <tr>\n",
              "      <th>2</th>\n",
              "      <td>1</td>\n",
              "      <td>2007</td>\n",
              "      <td>1999</td>\n",
              "      <td>0</td>\n",
              "      <td>291</td>\n",
              "      <td>0</td>\n",
              "      <td>6</td>\n",
              "    </tr>\n",
              "    <tr>\n",
              "      <th>3</th>\n",
              "      <td>1</td>\n",
              "      <td>1734</td>\n",
              "      <td>1546</td>\n",
              "      <td>1</td>\n",
              "      <td>200</td>\n",
              "      <td>0</td>\n",
              "      <td>3</td>\n",
              "    </tr>\n",
              "    <tr>\n",
              "      <th>4</th>\n",
              "      <td>1</td>\n",
              "      <td>2148</td>\n",
              "      <td>1580</td>\n",
              "      <td>0</td>\n",
              "      <td>46</td>\n",
              "      <td>0</td>\n",
              "      <td>6</td>\n",
              "    </tr>\n",
              "  </tbody>\n",
              "</table>\n",
              "</div>\n",
              "      <button class=\"colab-df-convert\" onclick=\"convertToInteractive('df-6b39dc82-c221-472d-a972-4b3f76f155f3')\"\n",
              "              title=\"Convert this dataframe to an interactive table.\"\n",
              "              style=\"display:none;\">\n",
              "        \n",
              "  <svg xmlns=\"http://www.w3.org/2000/svg\" height=\"24px\"viewBox=\"0 0 24 24\"\n",
              "       width=\"24px\">\n",
              "    <path d=\"M0 0h24v24H0V0z\" fill=\"none\"/>\n",
              "    <path d=\"M18.56 5.44l.94 2.06.94-2.06 2.06-.94-2.06-.94-.94-2.06-.94 2.06-2.06.94zm-11 1L8.5 8.5l.94-2.06 2.06-.94-2.06-.94L8.5 2.5l-.94 2.06-2.06.94zm10 10l.94 2.06.94-2.06 2.06-.94-2.06-.94-.94-2.06-.94 2.06-2.06.94z\"/><path d=\"M17.41 7.96l-1.37-1.37c-.4-.4-.92-.59-1.43-.59-.52 0-1.04.2-1.43.59L10.3 9.45l-7.72 7.72c-.78.78-.78 2.05 0 2.83L4 21.41c.39.39.9.59 1.41.59.51 0 1.02-.2 1.41-.59l7.78-7.78 2.81-2.81c.8-.78.8-2.07 0-2.86zM5.41 20L4 18.59l7.72-7.72 1.47 1.35L5.41 20z\"/>\n",
              "  </svg>\n",
              "      </button>\n",
              "      \n",
              "  <style>\n",
              "    .colab-df-container {\n",
              "      display:flex;\n",
              "      flex-wrap:wrap;\n",
              "      gap: 12px;\n",
              "    }\n",
              "\n",
              "    .colab-df-convert {\n",
              "      background-color: #E8F0FE;\n",
              "      border: none;\n",
              "      border-radius: 50%;\n",
              "      cursor: pointer;\n",
              "      display: none;\n",
              "      fill: #1967D2;\n",
              "      height: 32px;\n",
              "      padding: 0 0 0 0;\n",
              "      width: 32px;\n",
              "    }\n",
              "\n",
              "    .colab-df-convert:hover {\n",
              "      background-color: #E2EBFA;\n",
              "      box-shadow: 0px 1px 2px rgba(60, 64, 67, 0.3), 0px 1px 3px 1px rgba(60, 64, 67, 0.15);\n",
              "      fill: #174EA6;\n",
              "    }\n",
              "\n",
              "    [theme=dark] .colab-df-convert {\n",
              "      background-color: #3B4455;\n",
              "      fill: #D2E3FC;\n",
              "    }\n",
              "\n",
              "    [theme=dark] .colab-df-convert:hover {\n",
              "      background-color: #434B5C;\n",
              "      box-shadow: 0px 1px 3px 1px rgba(0, 0, 0, 0.15);\n",
              "      filter: drop-shadow(0px 1px 2px rgba(0, 0, 0, 0.3));\n",
              "      fill: #FFFFFF;\n",
              "    }\n",
              "  </style>\n",
              "\n",
              "      <script>\n",
              "        const buttonEl =\n",
              "          document.querySelector('#df-6b39dc82-c221-472d-a972-4b3f76f155f3 button.colab-df-convert');\n",
              "        buttonEl.style.display =\n",
              "          google.colab.kernel.accessAllowed ? 'block' : 'none';\n",
              "\n",
              "        async function convertToInteractive(key) {\n",
              "          const element = document.querySelector('#df-6b39dc82-c221-472d-a972-4b3f76f155f3');\n",
              "          const dataTable =\n",
              "            await google.colab.kernel.invokeFunction('convertToInteractive',\n",
              "                                                     [key], {});\n",
              "          if (!dataTable) return;\n",
              "\n",
              "          const docLinkHtml = 'Like what you see? Visit the ' +\n",
              "            '<a target=\"_blank\" href=https://colab.research.google.com/notebooks/data_table.ipynb>data table notebook</a>'\n",
              "            + ' to learn more about interactive tables.';\n",
              "          element.innerHTML = '';\n",
              "          dataTable['output_type'] = 'display_data';\n",
              "          await google.colab.output.renderOutput(dataTable, element);\n",
              "          const docLink = document.createElement('div');\n",
              "          docLink.innerHTML = docLinkHtml;\n",
              "          element.appendChild(docLink);\n",
              "        }\n",
              "      </script>\n",
              "    </div>\n",
              "  </div>\n",
              "  "
            ],
            "text/plain": [
              "   Result  WhiteElo  BlackElo  ...  ECO_enc  Termination_enc  TimeControl_enc\n",
              "0       1      1721      1746  ...      311                1                5\n",
              "1       1      1319      1182  ...      101                1               13\n",
              "2       1      2007      1999  ...      291                0                6\n",
              "3       1      1734      1546  ...      200                0                3\n",
              "4       1      2148      1580  ...       46                0                6\n",
              "\n",
              "[5 rows x 7 columns]"
            ]
          },
          "metadata": {},
          "execution_count": 39
        }
      ],
      "source": [
        "df_sample.head()"
      ]
    },
    {
      "cell_type": "code",
      "execution_count": null,
      "metadata": {
        "colab": {
          "base_uri": "https://localhost:8080/"
        },
        "id": "G2O12jWQE537",
        "outputId": "a7dbdd9c-abf9-4628-e379-c21b06578d2b"
      },
      "outputs": [
        {
          "output_type": "execute_result",
          "data": {
            "text/plain": [
              "(561486, 7)"
            ]
          },
          "metadata": {},
          "execution_count": 40
        }
      ],
      "source": [
        "df_sample.shape"
      ]
    },
    {
      "cell_type": "code",
      "execution_count": null,
      "metadata": {
        "id": "1baKmF1mE538"
      },
      "outputs": [],
      "source": [
        "df_sample_features = df_sample.drop('Result', axis = 1)"
      ]
    },
    {
      "cell_type": "code",
      "execution_count": null,
      "metadata": {
        "id": "dexu3eYmE538"
      },
      "outputs": [],
      "source": [
        "X = df_sample_features.values\n",
        "y = df_sample['Result'].values\n",
        "\n",
        "X_train, X_test, y_train, y_test = train_test_split(X, y, test_size=0.1, random_state = 42)"
      ]
    },
    {
      "cell_type": "markdown",
      "metadata": {
        "id": "dq7YKntHE539"
      },
      "source": [
        "# Podział"
      ]
    },
    {
      "cell_type": "code",
      "execution_count": null,
      "metadata": {
        "id": "6gYSdHANE53_"
      },
      "outputs": [],
      "source": [
        "df_blitz = df_sample[df_sample['Event_enc'] == 0]\n",
        "df_bullet = df_sample[df_sample['Event_enc'] == 1]\n",
        "df_classical = df_sample[df_sample['Event_enc'] == 2]\n",
        "df_correspondence = df_sample[df_sample['Event_enc'] == 3]"
      ]
    },
    {
      "cell_type": "code",
      "execution_count": null,
      "metadata": {
        "id": "Qqm0fwBfE54A"
      },
      "outputs": [],
      "source": [
        "df_blitz_features = df_blitz.drop('Result', axis = 1)\n",
        "df_bullet_features = df_bullet.drop('Result', axis = 1)\n",
        "df_classical_features = df_classical.drop('Result', axis = 1)\n",
        "df_correspondence_features = df_correspondence.drop('Result', axis = 1)"
      ]
    },
    {
      "cell_type": "markdown",
      "metadata": {
        "id": "KnWB9KJoE54B"
      },
      "source": [
        "# XGBoost"
      ]
    },
    {
      "cell_type": "markdown",
      "metadata": {
        "id": "jcwBPQd7E54C"
      },
      "source": [
        "### BASIC"
      ]
    },
    {
      "cell_type": "code",
      "execution_count": null,
      "metadata": {
        "colab": {
          "base_uri": "https://localhost:8080/"
        },
        "id": "skcQEpGhE54C",
        "outputId": "061f1dc6-1c67-44ad-d5ce-545ae853e756"
      },
      "outputs": [
        {
          "output_type": "stream",
          "name": "stdout",
          "text": [
            "51.66432171543571\n",
            "              precision    recall  f1-score   support\n",
            "\n",
            "           1    0.59217   0.36749   0.45353     18716\n",
            "           2    0.60137   0.38234   0.46747     18651\n",
            "           3    0.45905   0.79864   0.58300     18782\n",
            "\n",
            "    accuracy                        0.51664     56149\n",
            "   macro avg    0.55086   0.51616   0.50133     56149\n",
            "weighted avg    0.55069   0.51664   0.50147     56149\n",
            "\n"
          ]
        },
        {
          "output_type": "execute_result",
          "data": {
            "text/plain": [
              "[(array([1691, 1449,    0,  304,    1,    8]), 0.05740967),\n",
              " (array([1998, 1927,    1,  100,    0,    3]), 0.051283542),\n",
              " (array([1501, 1461,    2,  101,    0,    8]), 0.005105045),\n",
              " (array([1545, 1767,    1,    0,    0,    1]), 0.0046939407),\n",
              " (array([1895, 1903,    1,  302,    0,    3]), 0.8734237),\n",
              " (array([1811, 1987,    0,   43,    0,    6]), 0.008084088)]"
            ]
          },
          "metadata": {},
          "execution_count": 45
        }
      ],
      "source": [
        "xgb = XGBClassifier()\n",
        "xgb.fit(X_train, y_train)\n",
        "classifier_accuracy = xgb.score(X_test, y_test)\n",
        "\n",
        "y_pred = xgb.predict(X_test)\n",
        "print(xgb.score(X_test, y_test)*100)\n",
        "print(classification_report(y_test, y_pred,digits = 5))\n",
        "\n",
        "list(zip(X_train, xgb.feature_importances_))"
      ]
    },
    {
      "cell_type": "markdown",
      "metadata": {
        "id": "FpzCklkCE54D"
      },
      "source": [
        "### BLITZ"
      ]
    },
    {
      "cell_type": "code",
      "execution_count": null,
      "metadata": {
        "id": "DICn7bVAE54D"
      },
      "outputs": [],
      "source": [
        "X_blitz = df_blitz_features.values\n",
        "y_blitz = df_blitz['Result'].values\n",
        "\n",
        "X_blitz_train, X_blitz_test, y_blitz_train, y_blitz_test = train_test_split(X_blitz, y_blitz, test_size=0.1, random_state = 42)"
      ]
    },
    {
      "cell_type": "code",
      "execution_count": null,
      "metadata": {
        "colab": {
          "base_uri": "https://localhost:8080/"
        },
        "id": "FA3zO0-DE54E",
        "outputId": "cbf24ea1-8376-4e9b-a0fa-727e9bd1dee9"
      },
      "outputs": [
        {
          "output_type": "stream",
          "name": "stdout",
          "text": [
            "50.462820117247766\n",
            "              precision    recall  f1-score   support\n",
            "\n",
            "           1    0.56620   0.33225   0.41877      8340\n",
            "           2    0.57970   0.34523   0.43275      8406\n",
            "           3    0.46238   0.80712   0.58794      9182\n",
            "\n",
            "    accuracy                        0.50463     25928\n",
            "   macro avg    0.53610   0.49487   0.47982     25928\n",
            "weighted avg    0.53381   0.50463   0.48321     25928\n",
            "\n"
          ]
        },
        {
          "output_type": "execute_result",
          "data": {
            "text/plain": [
              "[(array([1691, 1449,    0,  304,    1,    8]), 0.062412042),\n",
              " (array([1998, 1927,    1,  100,    0,    3]), 0.058384806),\n",
              " (array([1501, 1461,    2,  101,    0,    8]), 0.0),\n",
              " (array([1545, 1767,    1,    0,    0,    1]), 0.005063728),\n",
              " (array([1895, 1903,    1,  302,    0,    3]), 0.870809),\n",
              " (array([1811, 1987,    0,   43,    0,    6]), 0.0033304258)]"
            ]
          },
          "metadata": {},
          "execution_count": 47
        }
      ],
      "source": [
        "xgb = XGBClassifier()\n",
        "xgb.fit(X_blitz_train, y_blitz_train)\n",
        "classifier_accuracy = xgb.score(X_blitz_test, y_blitz_test)\n",
        "y_blitz_pred = xgb.predict(X_blitz_test)\n",
        "print(xgb.score(X_blitz_test, y_blitz_test)*100)\n",
        "print(classification_report(y_blitz_test, y_blitz_pred,digits = 5))\n",
        "list(zip(X_train, xgb.feature_importances_))"
      ]
    },
    {
      "cell_type": "markdown",
      "metadata": {
        "id": "cur4sfjmE54E"
      },
      "source": [
        "### BULLET"
      ]
    },
    {
      "cell_type": "code",
      "execution_count": null,
      "metadata": {
        "id": "rQC0mIDYE54E"
      },
      "outputs": [],
      "source": [
        "X_bullet = df_bullet_features.values\n",
        "y_bullet = df_bullet['Result'].values\n",
        "\n",
        "X_bullet_train, X_bullet_test, y_bullet_train, y_bullet_test = train_test_split(X_bullet, y_bullet, test_size=0.1, random_state = 42)"
      ]
    },
    {
      "cell_type": "code",
      "execution_count": null,
      "metadata": {
        "colab": {
          "base_uri": "https://localhost:8080/"
        },
        "id": "AEXe0TaeE54F",
        "outputId": "ef1382c1-8f6c-4520-c44c-cfe662d83d35"
      },
      "outputs": [
        {
          "output_type": "stream",
          "name": "stdout",
          "text": [
            "56.035300123988044\n",
            "              precision    recall  f1-score   support\n",
            "\n",
            "           1    0.61412   0.50895   0.55661      5197\n",
            "           2    0.63038   0.53149   0.57672      5240\n",
            "           3    0.45187   0.68815   0.54552      3274\n",
            "\n",
            "    accuracy                        0.56035     13711\n",
            "   macro avg    0.56545   0.57620   0.55962     13711\n",
            "weighted avg    0.58159   0.56035   0.56165     13711\n",
            "\n"
          ]
        },
        {
          "output_type": "execute_result",
          "data": {
            "text/plain": [
              "[(array([1691, 1449,    0,  304,    1,    8]), 0.054556526),\n",
              " (array([1998, 1927,    1,  100,    0,    3]), 0.049832344),\n",
              " (array([1501, 1461,    2,  101,    0,    8]), 0.0),\n",
              " (array([1545, 1767,    1,    0,    0,    1]), 0.0025582048),\n",
              " (array([1895, 1903,    1,  302,    0,    3]), 0.88527197),\n",
              " (array([1811, 1987,    0,   43,    0,    6]), 0.007781034)]"
            ]
          },
          "metadata": {},
          "execution_count": 49
        }
      ],
      "source": [
        "xgb = XGBClassifier()\n",
        "xgb.fit(X_bullet_train, y_bullet_train)\n",
        "classifier_accuracy = xgb.score(X_bullet_test, y_bullet_test)\n",
        "y_bullet_pred = xgb.predict(X_bullet_test)\n",
        "print(xgb.score(X_bullet_test, y_bullet_test)*100)\n",
        "print(classification_report(y_bullet_test, y_bullet_pred,digits = 5))\n",
        "\n",
        "list(zip(X_train, xgb.feature_importances_))"
      ]
    },
    {
      "cell_type": "markdown",
      "metadata": {
        "id": "nUoSjvLkE54F"
      },
      "source": [
        "### CLASSICAL"
      ]
    },
    {
      "cell_type": "code",
      "execution_count": null,
      "metadata": {
        "id": "wf6OS7weE54F"
      },
      "outputs": [],
      "source": [
        "X_classical = df_classical_features.values\n",
        "y_classical = df_classical['Result'].values\n",
        "\n",
        "X_classical_train, X_classical_test, y_classical_train, y_classical_test = train_test_split(X_classical, y_classical, test_size=0.1, random_state = 42)"
      ]
    },
    {
      "cell_type": "code",
      "execution_count": null,
      "metadata": {
        "colab": {
          "base_uri": "https://localhost:8080/"
        },
        "id": "bnbJ-3VYE54F",
        "outputId": "fc1c8624-2a2d-43e7-a2d6-04301a8ad853"
      },
      "outputs": [
        {
          "output_type": "stream",
          "name": "stdout",
          "text": [
            "49.077263779527556\n",
            "              precision    recall  f1-score   support\n",
            "\n",
            "           1    0.53756   0.29186   0.37832      4879\n",
            "           2    0.56238   0.28617   0.37932      5025\n",
            "           3    0.46299   0.80542   0.58798      6352\n",
            "\n",
            "    accuracy                        0.49077     16256\n",
            "   macro avg    0.52098   0.46115   0.44854     16256\n",
            "weighted avg    0.51609   0.49077   0.46055     16256\n",
            "\n"
          ]
        },
        {
          "output_type": "execute_result",
          "data": {
            "text/plain": [
              "[(array([1691, 1449,    0,  304,    1,    8]), 0.08980316),\n",
              " (array([1998, 1927,    1,  100,    0,    3]), 0.09353215),\n",
              " (array([1501, 1461,    2,  101,    0,    8]), 0.0),\n",
              " (array([1545, 1767,    1,    0,    0,    1]), 0.0106709935),\n",
              " (array([1895, 1903,    1,  302,    0,    3]), 0.7998595),\n",
              " (array([1811, 1987,    0,   43,    0,    6]), 0.006134196)]"
            ]
          },
          "metadata": {},
          "execution_count": 51
        }
      ],
      "source": [
        "xgb = XGBClassifier()\n",
        "xgb.fit(X_classical_train, y_classical_train)\n",
        "classifier_accuracy = xgb.score(X_classical_test, y_classical_test)\n",
        "y_classical_pred = xgb.predict(X_classical_test)\n",
        "print(xgb.score(X_classical_test, y_classical_test)*100)\n",
        "print(classification_report(y_classical_test, y_classical_pred,digits = 5))\n",
        "list(zip(X_train, xgb.feature_importances_))"
      ]
    },
    {
      "cell_type": "markdown",
      "metadata": {
        "id": "2yVXYRQ2E54G"
      },
      "source": [
        "### CORRESPONDENCE"
      ]
    },
    {
      "cell_type": "code",
      "execution_count": null,
      "metadata": {
        "id": "Zs93Ros8E54G"
      },
      "outputs": [],
      "source": [
        "X_correspondence = df_correspondence_features.values\n",
        "y_correspondence = df_correspondence['Result'].values\n",
        "\n",
        "X_correspondence_train, X_correspondence_test, y_correspondence_train, y_correspondence_test = train_test_split(X_correspondence, y_correspondence, test_size=0.1, random_state = 42)"
      ]
    },
    {
      "cell_type": "code",
      "execution_count": null,
      "metadata": {
        "colab": {
          "base_uri": "https://localhost:8080/"
        },
        "id": "ISRkkJPfE54G",
        "outputId": "cb127101-bfe9-4281-e588-c5352be50b99"
      },
      "outputs": [
        {
          "output_type": "stream",
          "name": "stdout",
          "text": [
            "60.546875\n",
            "              precision    recall  f1-score   support\n",
            "\n",
            "           1    0.61905   0.23214   0.33766        56\n",
            "           2    0.80000   0.24242   0.37209        66\n",
            "           3    0.58605   0.94030   0.72206       134\n",
            "\n",
            "    accuracy                        0.60547       256\n",
            "   macro avg    0.66836   0.47162   0.47727       256\n",
            "weighted avg    0.64843   0.60547   0.54775       256\n",
            "\n"
          ]
        },
        {
          "output_type": "execute_result",
          "data": {
            "text/plain": [
              "[(array([1691, 1449,    0,  304,    1,    8]), 0.114245005),\n",
              " (array([1998, 1927,    1,  100,    0,    3]), 0.11171519),\n",
              " (array([1501, 1461,    2,  101,    0,    8]), 0.0),\n",
              " (array([1545, 1767,    1,    0,    0,    1]), 0.07801779),\n",
              " (array([1895, 1903,    1,  302,    0,    3]), 0.69602203),\n",
              " (array([1811, 1987,    0,   43,    0,    6]), 0.0)]"
            ]
          },
          "metadata": {},
          "execution_count": 53
        }
      ],
      "source": [
        "xgb = XGBClassifier()\n",
        "xgb.fit(X_correspondence_train, y_correspondence_train)\n",
        "classifier_accuracy = xgb.score(X_correspondence_test, y_correspondence_test)\n",
        "y_correspondence_pred = xgb.predict(X_correspondence_test)\n",
        "print(xgb.score(X_correspondence_test, y_correspondence_test)*100)\n",
        "print(classification_report(y_correspondence_test, y_correspondence_pred,digits = 5))\n",
        "list(zip(X_train, xgb.feature_importances_))"
      ]
    },
    {
      "cell_type": "markdown",
      "metadata": {
        "id": "jjSc-f14E54H"
      },
      "source": [
        "### XGBoost - STROJONY"
      ]
    },
    {
      "cell_type": "code",
      "source": [
        "xgb = XGBClassifier(max_depth=4,\n",
        "                    subsample = 0.3,\n",
        "                    colsample_bytree = 1,\n",
        "                    n_estimator = 100,\n",
        "                    learning_rate = 0.1,\n",
        "                    gamma = 2)\n",
        "xgb.fit(X_train, y_train)\n",
        "classifier_accuracy = xgb.score(X_test, y_test)\n",
        "\n",
        "y_pred = xgb.predict(X_test)\n",
        "\n",
        "print(xgb.score(X_test, y_test)*100)\n",
        "print(classification_report(y_test, y_pred,digits = 5))\n",
        "\n",
        "list(zip(X_train, xgb.feature_importances_))"
      ],
      "metadata": {
        "colab": {
          "base_uri": "https://localhost:8080/"
        },
        "id": "9XUb-5sc2ipR",
        "outputId": "3bfad092-381e-46f7-98d3-fe37200cd8c3"
      },
      "execution_count": null,
      "outputs": [
        {
          "output_type": "stream",
          "name": "stdout",
          "text": [
            "51.637607081159054\n",
            "              precision    recall  f1-score   support\n",
            "\n",
            "           1    0.59517   0.36872   0.45535     18716\n",
            "           2    0.59548   0.39092   0.47199     18651\n",
            "           3    0.45812   0.78809   0.57943     18782\n",
            "\n",
            "    accuracy                        0.51638     56149\n",
            "   macro avg    0.54959   0.51591   0.50225     56149\n",
            "weighted avg    0.54943   0.51638   0.50238     56149\n",
            "\n"
          ]
        },
        {
          "output_type": "execute_result",
          "data": {
            "text/plain": [
              "[(array([  0, 304,   1,   8, 242], dtype=int64), 0.008342875),\n",
              " (array([  1, 100,   0,   3,  71], dtype=int64), 0.008282711),\n",
              " (array([  2, 101,   0,   8,  40], dtype=int64), 0.8655784),\n",
              " (array([   1,    0,    0,    1, -222], dtype=int64), 0.009126376),\n",
              " (array([  1, 302,   0,   3,  -8], dtype=int64), 0.10866963)]"
            ]
          },
          "metadata": {},
          "execution_count": 140
        }
      ]
    }
  ],
  "metadata": {
    "interpreter": {
      "hash": "32ee103e807441b8b43ef544df75b395a3ebfbafac956e5e2fedbb31b18d2dc5"
    },
    "kernelspec": {
      "display_name": "Python 3.9.7 64-bit ('kamil': conda)",
      "language": "python",
      "name": "python3"
    },
    "language_info": {
      "codemirror_mode": {
        "name": "ipython",
        "version": 3
      },
      "file_extension": ".py",
      "mimetype": "text/x-python",
      "name": "python",
      "nbconvert_exporter": "python",
      "pygments_lexer": "ipython3",
      "version": "3.9.7"
    },
    "orig_nbformat": 4,
    "colab": {
      "name": "DS1 - CLEAN.ipynb",
      "provenance": [],
      "collapsed_sections": [
        "dq7YKntHE539",
        "FpzCklkCE54D",
        "cur4sfjmE54E",
        "nUoSjvLkE54F",
        "2yVXYRQ2E54G"
      ]
    }
  },
  "nbformat": 4,
  "nbformat_minor": 0
}