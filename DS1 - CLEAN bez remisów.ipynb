{
 "cells": [
  {
   "cell_type": "code",
   "execution_count": 4,
   "metadata": {},
   "outputs": [],
   "source": [
    "import pandas as pd\n",
    "from sklearn.model_selection import train_test_split\n",
    "from sklearn.model_selection import cross_val_score\n",
    "from sklearn.metrics import classification_report\n",
    "import matplotlib.pyplot as plt\n",
    "from sklearn.metrics import accuracy_score, log_loss\n",
    "from sklearn.neighbors import KNeighborsClassifier\n",
    "from sklearn.svm import SVC, LinearSVC, NuSVC\n",
    "from sklearn.tree import DecisionTreeClassifier\n",
    "from sklearn.ensemble import RandomForestClassifier, AdaBoostClassifier, GradientBoostingClassifier\n",
    "from sklearn.naive_bayes import GaussianNB\n",
    "from sklearn.discriminant_analysis import LinearDiscriminantAnalysis\n",
    "from sklearn.discriminant_analysis import QuadraticDiscriminantAnalysis"
   ]
  },
  {
   "cell_type": "code",
   "execution_count": 5,
   "metadata": {},
   "outputs": [],
   "source": [
    "df_sample = pd.read_csv('../csv/bez_remisow.csv')"
   ]
  },
  {
   "cell_type": "code",
   "execution_count": 6,
   "metadata": {},
   "outputs": [
    {
     "data": {
      "text/html": [
       "<div>\n",
       "<style scoped>\n",
       "    .dataframe tbody tr th:only-of-type {\n",
       "        vertical-align: middle;\n",
       "    }\n",
       "\n",
       "    .dataframe tbody tr th {\n",
       "        vertical-align: top;\n",
       "    }\n",
       "\n",
       "    .dataframe thead th {\n",
       "        text-align: right;\n",
       "    }\n",
       "</style>\n",
       "<table border=\"1\" class=\"dataframe\">\n",
       "  <thead>\n",
       "    <tr style=\"text-align: right;\">\n",
       "      <th></th>\n",
       "      <th>Result</th>\n",
       "      <th>WhiteElo</th>\n",
       "      <th>BlackElo</th>\n",
       "      <th>Event_enc</th>\n",
       "      <th>ECO_enc</th>\n",
       "      <th>Termination_enc</th>\n",
       "      <th>TimeControl_enc</th>\n",
       "    </tr>\n",
       "  </thead>\n",
       "  <tbody>\n",
       "    <tr>\n",
       "      <th>0</th>\n",
       "      <td>1</td>\n",
       "      <td>1721</td>\n",
       "      <td>1746</td>\n",
       "      <td>1</td>\n",
       "      <td>311</td>\n",
       "      <td>1</td>\n",
       "      <td>5</td>\n",
       "    </tr>\n",
       "    <tr>\n",
       "      <th>1</th>\n",
       "      <td>1</td>\n",
       "      <td>1319</td>\n",
       "      <td>1182</td>\n",
       "      <td>2</td>\n",
       "      <td>101</td>\n",
       "      <td>1</td>\n",
       "      <td>13</td>\n",
       "    </tr>\n",
       "    <tr>\n",
       "      <th>2</th>\n",
       "      <td>1</td>\n",
       "      <td>2007</td>\n",
       "      <td>1999</td>\n",
       "      <td>0</td>\n",
       "      <td>291</td>\n",
       "      <td>0</td>\n",
       "      <td>6</td>\n",
       "    </tr>\n",
       "    <tr>\n",
       "      <th>3</th>\n",
       "      <td>1</td>\n",
       "      <td>1734</td>\n",
       "      <td>1546</td>\n",
       "      <td>1</td>\n",
       "      <td>200</td>\n",
       "      <td>0</td>\n",
       "      <td>3</td>\n",
       "    </tr>\n",
       "    <tr>\n",
       "      <th>4</th>\n",
       "      <td>1</td>\n",
       "      <td>2148</td>\n",
       "      <td>1580</td>\n",
       "      <td>0</td>\n",
       "      <td>46</td>\n",
       "      <td>0</td>\n",
       "      <td>6</td>\n",
       "    </tr>\n",
       "  </tbody>\n",
       "</table>\n",
       "</div>"
      ],
      "text/plain": [
       "   Result  WhiteElo  BlackElo  Event_enc  ECO_enc  Termination_enc  \\\n",
       "0       1      1721      1746          1      311                1   \n",
       "1       1      1319      1182          2      101                1   \n",
       "2       1      2007      1999          0      291                0   \n",
       "3       1      1734      1546          1      200                0   \n",
       "4       1      2148      1580          0       46                0   \n",
       "\n",
       "   TimeControl_enc  \n",
       "0                5  \n",
       "1               13  \n",
       "2                6  \n",
       "3                3  \n",
       "4                6  "
      ]
     },
     "execution_count": 6,
     "metadata": {},
     "output_type": "execute_result"
    }
   ],
   "source": [
    "df_sample.head()"
   ]
  },
  {
   "cell_type": "code",
   "execution_count": 7,
   "metadata": {},
   "outputs": [
    {
     "data": {
      "text/plain": [
       "(5802056, 7)"
      ]
     },
     "execution_count": 7,
     "metadata": {},
     "output_type": "execute_result"
    }
   ],
   "source": [
    "df_sample.shape"
   ]
  },
  {
   "cell_type": "code",
   "execution_count": 8,
   "metadata": {},
   "outputs": [],
   "source": [
    "df_sample_features = df_sample.drop('Result', axis = 1)"
   ]
  },
  {
   "cell_type": "code",
   "execution_count": 9,
   "metadata": {},
   "outputs": [],
   "source": [
    "X = df_sample_features.values\n",
    "y = df_sample['Result'].values\n",
    "\n",
    "X_train, X_test, y_train, y_test = train_test_split(X, y, test_size=0.1, random_state = 42)"
   ]
  },
  {
   "cell_type": "markdown",
   "metadata": {},
   "source": [
    "# Podział"
   ]
  },
  {
   "cell_type": "code",
   "execution_count": 10,
   "metadata": {},
   "outputs": [],
   "source": [
    "df_blitz = df_sample[df_sample['Event_enc'] == 0]\n",
    "df_bullet = df_sample[df_sample['Event_enc'] == 1]\n",
    "df_classical = df_sample[df_sample['Event_enc'] == 2]\n",
    "df_correspondence = df_sample[df_sample['Event_enc'] == 3]"
   ]
  },
  {
   "cell_type": "code",
   "execution_count": 11,
   "metadata": {},
   "outputs": [],
   "source": [
    "df_blitz_features = df_blitz.drop('Result', axis = 1)\n",
    "df_bullet_features = df_bullet.drop('Result', axis = 1)\n",
    "df_classical_features = df_classical.drop('Result', axis = 1)\n",
    "df_correspondence_features = df_correspondence.drop('Result', axis = 1)"
   ]
  },
  {
   "cell_type": "markdown",
   "metadata": {},
   "source": [
    "# DT"
   ]
  },
  {
   "cell_type": "markdown",
   "metadata": {},
   "source": [
    "### BASIC"
   ]
  },
  {
   "cell_type": "code",
   "execution_count": 12,
   "metadata": {},
   "outputs": [
    {
     "name": "stdout",
     "output_type": "stream",
     "text": [
      "57.3106793104518\n",
      "              precision    recall  f1-score   support\n",
      "\n",
      "           1    0.57334   0.57574   0.57454    290470\n",
      "           2    0.57287   0.57046   0.57167    289736\n",
      "\n",
      "    accuracy                        0.57311    580206\n",
      "   macro avg    0.57311   0.57310   0.57310    580206\n",
      "weighted avg    0.57311   0.57311   0.57310    580206\n",
      "\n"
     ]
    },
    {
     "data": {
      "text/plain": [
       "[(array([1817, 1697,    1,  305,    0,    5]), 32.161830671810414),\n",
       " (array([2279, 2221,    0,  103,    0,    6]), 27.7314936364096),\n",
       " (array([1998, 1937,    1,  203,    1,    3]), 2.7202926287137124),\n",
       " (array([1802, 1894,    2,  107,    0,    8]), 24.018812549100442),\n",
       " (array([1883, 1604,    2,  265,    0,   13]), 2.212548351513568),\n",
       " (array([1857, 1807,    2,  262,    1,   18]), 11.155022162452259)]"
      ]
     },
     "execution_count": 12,
     "metadata": {},
     "output_type": "execute_result"
    }
   ],
   "source": [
    "decision_tree_classifier = DecisionTreeClassifier()\n",
    "decision_tree_classifier.fit(X_train, y_train)\n",
    "classifier_accuracy = decision_tree_classifier.score(X_test, y_test)\n",
    "\n",
    "y_pred = decision_tree_classifier.predict(X_test)\n",
    "print(decision_tree_classifier.score(X_test, y_test)*100)\n",
    "print(classification_report(y_test, y_pred,digits = 5))\n",
    "\n",
    "list(zip(X_train, decision_tree_classifier.feature_importances_*100))"
   ]
  },
  {
   "cell_type": "markdown",
   "metadata": {},
   "source": [
    "### BLITZ"
   ]
  },
  {
   "cell_type": "code",
   "execution_count": 13,
   "metadata": {},
   "outputs": [],
   "source": [
    "X_blitz = df_blitz_features.values\n",
    "y_blitz = df_blitz['Result'].values\n",
    "\n",
    "X_blitz_train, X_blitz_test, y_blitz_train, y_blitz_test = train_test_split(X_blitz, y_blitz, test_size=0.1, random_state = 42)"
   ]
  },
  {
   "cell_type": "code",
   "execution_count": 14,
   "metadata": {},
   "outputs": [
    {
     "name": "stdout",
     "output_type": "stream",
     "text": [
      "56.46620849854435\n",
      "              precision    recall  f1-score   support\n",
      "\n",
      "           1    0.56406   0.56814   0.56609    129969\n",
      "           2    0.56527   0.56119   0.56322    130052\n",
      "\n",
      "    accuracy                        0.56466    260021\n",
      "   macro avg    0.56467   0.56466   0.56466    260021\n",
      "weighted avg    0.56467   0.56466   0.56466    260021\n",
      "\n"
     ]
    },
    {
     "data": {
      "text/plain": [
       "[(array([1817, 1697,    1,  305,    0,    5]), 33.36810599549453),\n",
       " (array([2279, 2221,    0,  103,    0,    6]), 29.838830692271372),\n",
       " (array([1998, 1937,    1,  203,    1,    3]), 0.0),\n",
       " (array([1802, 1894,    2,  107,    0,    8]), 27.24062607711576),\n",
       " (array([1883, 1604,    2,  265,    0,   13]), 2.5662159626891468),\n",
       " (array([1857, 1807,    2,  262,    1,   18]), 6.986221272429194)]"
      ]
     },
     "execution_count": 14,
     "metadata": {},
     "output_type": "execute_result"
    }
   ],
   "source": [
    "decision_tree_classifier = DecisionTreeClassifier()\n",
    "decision_tree_classifier.fit(X_blitz_train, y_blitz_train)\n",
    "classifier_accuracy = decision_tree_classifier.score(X_blitz_test, y_blitz_test)\n",
    "y_blitz_pred = decision_tree_classifier.predict(X_blitz_test)\n",
    "print(decision_tree_classifier.score(X_blitz_test, y_blitz_test)*100)\n",
    "print(classification_report(y_blitz_test, y_blitz_pred,digits = 5))\n",
    "list(zip(X_train, decision_tree_classifier.feature_importances_*100))"
   ]
  },
  {
   "cell_type": "markdown",
   "metadata": {},
   "source": [
    "### BULLET"
   ]
  },
  {
   "cell_type": "code",
   "execution_count": 15,
   "metadata": {},
   "outputs": [],
   "source": [
    "X_bullet = df_bullet_features.values\n",
    "y_bullet = df_bullet['Result'].values\n",
    "\n",
    "X_bullet_train, X_bullet_test, y_bullet_train, y_bullet_test = train_test_split(X_bullet, y_bullet, test_size=0.1, random_state = 42)"
   ]
  },
  {
   "cell_type": "code",
   "execution_count": 16,
   "metadata": {},
   "outputs": [
    {
     "name": "stdout",
     "output_type": "stream",
     "text": [
      "59.34103635450234\n",
      "              precision    recall  f1-score   support\n",
      "\n",
      "           1    0.58860   0.59604   0.59230     80879\n",
      "           2    0.59825   0.59083   0.59452     82347\n",
      "\n",
      "    accuracy                        0.59341    163226\n",
      "   macro avg    0.59343   0.59343   0.59341    163226\n",
      "weighted avg    0.59347   0.59341   0.59342    163226\n",
      "\n"
     ]
    },
    {
     "data": {
      "text/plain": [
       "[(array([1817, 1697,    1,  305,    0,    5]), 36.41238365728933),\n",
       " (array([2279, 2221,    0,  103,    0,    6]), 31.071920896428896),\n",
       " (array([1998, 1937,    1,  203,    1,    3]), 0.0),\n",
       " (array([1802, 1894,    2,  107,    0,    8]), 23.258094188306515),\n",
       " (array([1883, 1604,    2,  265,    0,   13]), 2.4875094049017554),\n",
       " (array([1857, 1807,    2,  262,    1,   18]), 6.77009185307349)]"
      ]
     },
     "execution_count": 16,
     "metadata": {},
     "output_type": "execute_result"
    }
   ],
   "source": [
    "decision_tree_classifier = DecisionTreeClassifier()\n",
    "decision_tree_classifier.fit(X_bullet_train, y_bullet_train)\n",
    "classifier_accuracy = decision_tree_classifier.score(X_bullet_test, y_bullet_test)\n",
    "y_bullet_pred = decision_tree_classifier.predict(X_bullet_test)\n",
    "print(decision_tree_classifier.score(X_bullet_test, y_bullet_test)*100)\n",
    "print(classification_report(y_bullet_test, y_bullet_pred,digits = 5))\n",
    "\n",
    "list(zip(X_train, decision_tree_classifier.feature_importances_*100))"
   ]
  },
  {
   "cell_type": "markdown",
   "metadata": {},
   "source": [
    "### CLASSICAL"
   ]
  },
  {
   "cell_type": "code",
   "execution_count": 17,
   "metadata": {},
   "outputs": [],
   "source": [
    "X_classical = df_classical_features.values\n",
    "y_classical = df_classical['Result'].values\n",
    "\n",
    "X_classical_train, X_classical_test, y_classical_train, y_classical_test = train_test_split(X_classical, y_classical, test_size=0.1, random_state = 42)"
   ]
  },
  {
   "cell_type": "code",
   "execution_count": 18,
   "metadata": {},
   "outputs": [
    {
     "name": "stdout",
     "output_type": "stream",
     "text": [
      "56.94166548336711\n",
      "              precision    recall  f1-score   support\n",
      "\n",
      "           1    0.57017   0.57385   0.57200     77684\n",
      "           2    0.56865   0.56496   0.56680     77250\n",
      "\n",
      "    accuracy                        0.56942    154934\n",
      "   macro avg    0.56941   0.56940   0.56940    154934\n",
      "weighted avg    0.56941   0.56942   0.56941    154934\n",
      "\n"
     ]
    },
    {
     "data": {
      "text/plain": [
       "[(array([1817, 1697,    1,  305,    0,    5]), 33.44649647938824),\n",
       " (array([2279, 2221,    0,  103,    0,    6]), 29.478500498764397),\n",
       " (array([1998, 1937,    1,  203,    1,    3]), 0.0),\n",
       " (array([1802, 1894,    2,  107,    0,    8]), 23.071756027363737),\n",
       " (array([1883, 1604,    2,  265,    0,   13]), 1.9691580143350218),\n",
       " (array([1857, 1807,    2,  262,    1,   18]), 12.034088980148617)]"
      ]
     },
     "execution_count": 18,
     "metadata": {},
     "output_type": "execute_result"
    }
   ],
   "source": [
    "decision_tree_classifier = DecisionTreeClassifier()\n",
    "decision_tree_classifier.fit(X_classical_train, y_classical_train)\n",
    "classifier_accuracy = decision_tree_classifier.score(X_classical_test, y_classical_test)\n",
    "y_classical_pred = decision_tree_classifier.predict(X_classical_test)\n",
    "print(decision_tree_classifier.score(X_classical_test, y_classical_test)*100)\n",
    "print(classification_report(y_classical_test, y_classical_pred,digits = 5))\n",
    "list(zip(X_train, decision_tree_classifier.feature_importances_*100))"
   ]
  },
  {
   "cell_type": "markdown",
   "metadata": {},
   "source": [
    "### CORRESPONDENCE"
   ]
  },
  {
   "cell_type": "code",
   "execution_count": 19,
   "metadata": {},
   "outputs": [],
   "source": [
    "X_correspondence = df_correspondence_features.values\n",
    "y_correspondence = df_correspondence['Result'].values\n",
    "\n",
    "X_correspondence_train, X_correspondence_test, y_correspondence_train, y_correspondence_test = train_test_split(X_correspondence, y_correspondence, test_size=0.1, random_state = 42)"
   ]
  },
  {
   "cell_type": "code",
   "execution_count": 20,
   "metadata": {},
   "outputs": [
    {
     "name": "stdout",
     "output_type": "stream",
     "text": [
      "57.22742969906266\n",
      "              precision    recall  f1-score   support\n",
      "\n",
      "           1    0.57143   0.55611   0.56366      1007\n",
      "           2    0.57307   0.58824   0.58055      1020\n",
      "\n",
      "    accuracy                        0.57227      2027\n",
      "   macro avg    0.57225   0.57217   0.57211      2027\n",
      "weighted avg    0.57225   0.57227   0.57216      2027\n",
      "\n"
     ]
    },
    {
     "data": {
      "text/plain": [
       "[(array([1817, 1697,    1,  305,    0,    5]), 34.89910771524649),\n",
       " (array([2279, 2221,    0,  103,    0,    6]), 36.22230351762351),\n",
       " (array([1998, 1937,    1,  203,    1,    3]), 0.0),\n",
       " (array([1802, 1894,    2,  107,    0,    8]), 26.442261634251864),\n",
       " (array([1883, 1604,    2,  265,    0,   13]), 2.436327132878157),\n",
       " (array([1857, 1807,    2,  262,    1,   18]), 0.0)]"
      ]
     },
     "execution_count": 20,
     "metadata": {},
     "output_type": "execute_result"
    }
   ],
   "source": [
    "decision_tree_classifier = DecisionTreeClassifier()\n",
    "decision_tree_classifier.fit(X_correspondence_train, y_correspondence_train)\n",
    "classifier_accuracy = decision_tree_classifier.score(X_correspondence_test, y_correspondence_test)\n",
    "y_correspondence_pred = decision_tree_classifier.predict(X_correspondence_test)\n",
    "print(decision_tree_classifier.score(X_correspondence_test, y_correspondence_test)*100)\n",
    "print(classification_report(y_correspondence_test, y_correspondence_pred,digits = 5))\n",
    "list(zip(X_train, decision_tree_classifier.feature_importances_*100))"
   ]
  },
  {
   "cell_type": "markdown",
   "metadata": {},
   "source": [
    "### DT - STROJONY"
   ]
  },
  {
   "cell_type": "code",
   "execution_count": 21,
   "metadata": {},
   "outputs": [
    {
     "name": "stdout",
     "output_type": "stream",
     "text": [
      "64.87764690472004\n",
      "              precision    recall  f1-score   support\n",
      "\n",
      "           1    0.64770   0.65436   0.65101    290470\n",
      "           2    0.64988   0.64318   0.64651    289736\n",
      "\n",
      "    accuracy                        0.64878    580206\n",
      "   macro avg    0.64879   0.64877   0.64876    580206\n",
      "weighted avg    0.64879   0.64878   0.64876    580206\n",
      "\n"
     ]
    },
    {
     "data": {
      "text/plain": [
       "[(array([1817, 1697,    1,  305,    0,    5]), 64.44711388193683),\n",
       " (array([2279, 2221,    0,  103,    0,    6]), 35.54357670129066),\n",
       " (array([1998, 1937,    1,  203,    1,    3]), 0.0),\n",
       " (array([1802, 1894,    2,  107,    0,    8]), 0.0),\n",
       " (array([1883, 1604,    2,  265,    0,   13]), 0.009309416772510647),\n",
       " (array([1857, 1807,    2,  262,    1,   18]), 0.0)]"
      ]
     },
     "execution_count": 21,
     "metadata": {},
     "output_type": "execute_result"
    }
   ],
   "source": [
    "decision_tree_classifier = DecisionTreeClassifier(criterion='entropy', max_depth=7, max_features=6)\n",
    "decision_tree_classifier.fit(X_train, y_train)\n",
    "classifier_accuracy = decision_tree_classifier.score(X_test, y_test)\n",
    "\n",
    "y_pred = decision_tree_classifier.predict(X_test)\n",
    "print(decision_tree_classifier.score(X_test, y_test)*100)\n",
    "print(classification_report(y_test, y_pred,digits = 5))\n",
    "\n",
    "list(zip(X_train, decision_tree_classifier.feature_importances_*100))"
   ]
  },
  {
   "cell_type": "markdown",
   "metadata": {},
   "source": [
    "# RF"
   ]
  },
  {
   "cell_type": "code",
   "execution_count": 22,
   "metadata": {},
   "outputs": [],
   "source": [
    "from sklearn.model_selection import cross_val_score\n",
    "from sklearn.metrics import classification_report\n",
    "from sklearn.ensemble import RandomForestClassifier\n",
    "import matplotlib.pyplot as plt"
   ]
  },
  {
   "cell_type": "markdown",
   "metadata": {},
   "source": [
    "### BASIC"
   ]
  },
  {
   "cell_type": "code",
   "execution_count": 23,
   "metadata": {},
   "outputs": [
    {
     "name": "stdout",
     "output_type": "stream",
     "text": [
      "62.451956718820554\n",
      "              precision    recall  f1-score   support\n",
      "\n",
      "           1    0.62371   0.63018   0.62693    290470\n",
      "           2    0.62535   0.61884   0.62208    289736\n",
      "\n",
      "    accuracy                        0.62452    580206\n",
      "   macro avg    0.62453   0.62451   0.62450    580206\n",
      "weighted avg    0.62453   0.62452   0.62451    580206\n",
      "\n"
     ]
    },
    {
     "data": {
      "text/plain": [
       "[(array([1817, 1697,    1,  305,    0,    5]), 36.88807169030987),\n",
       " (array([2279, 2221,    0,  103,    0,    6]), 36.39559384872172),\n",
       " (array([1998, 1937,    1,  203,    1,    3]), 0.8450858724376743),\n",
       " (array([1802, 1894,    2,  107,    0,    8]), 19.59930457014486),\n",
       " (array([1883, 1604,    2,  265,    0,   13]), 0.5271263038201085),\n",
       " (array([1857, 1807,    2,  262,    1,   18]), 5.744817714565775)]"
      ]
     },
     "execution_count": 23,
     "metadata": {},
     "output_type": "execute_result"
    }
   ],
   "source": [
    "rf_classifier = RandomForestClassifier()\n",
    "rf_classifier.fit(X_train, y_train)\n",
    "classifier_accuracy = rf_classifier.score(X_test, y_test)\n",
    "\n",
    "y_pred = rf_classifier.predict(X_test)\n",
    "print(rf_classifier.score(X_test, y_test)*100)\n",
    "print(classification_report(y_test, y_pred,digits = 5))\n",
    "\n",
    "list(zip(X_train, rf_classifier.feature_importances_*100))"
   ]
  },
  {
   "cell_type": "markdown",
   "metadata": {},
   "source": [
    "### BLITZ"
   ]
  },
  {
   "cell_type": "code",
   "execution_count": 24,
   "metadata": {},
   "outputs": [
    {
     "name": "stdout",
     "output_type": "stream",
     "text": [
      "61.08083577864865\n",
      "              precision    recall  f1-score   support\n",
      "\n",
      "           1    0.60906   0.61812   0.61356    129969\n",
      "           2    0.61261   0.60350   0.60802    130052\n",
      "\n",
      "    accuracy                        0.61081    260021\n",
      "   macro avg    0.61083   0.61081   0.61079    260021\n",
      "weighted avg    0.61083   0.61081   0.61079    260021\n",
      "\n"
     ]
    },
    {
     "data": {
      "text/plain": [
       "[(array([1817, 1697,    1,  305,    0,    5]), 37.35003431292076),\n",
       " (array([2279, 2221,    0,  103,    0,    6]), 37.54115017855261),\n",
       " (array([1998, 1937,    1,  203,    1,    3]), 0.0),\n",
       " (array([1802, 1894,    2,  107,    0,    8]), 21.971243037306934),\n",
       " (array([1883, 1604,    2,  265,    0,   13]), 0.3938233746889257),\n",
       " (array([1857, 1807,    2,  262,    1,   18]), 2.7437490965307676)]"
      ]
     },
     "execution_count": 24,
     "metadata": {},
     "output_type": "execute_result"
    }
   ],
   "source": [
    "rf_classifier = RandomForestClassifier()\n",
    "rf_classifier.fit(X_blitz_train, y_blitz_train)\n",
    "classifier_accuracy = rf_classifier.score(X_blitz_test, y_blitz_test)\n",
    "y_blitz_pred = rf_classifier.predict(X_blitz_test)\n",
    "print(rf_classifier.score(X_blitz_test, y_blitz_test)*100)\n",
    "print(classification_report(y_blitz_test, y_blitz_pred,digits = 5))\n",
    "list(zip(X_train, rf_classifier.feature_importances_*100))"
   ]
  },
  {
   "cell_type": "markdown",
   "metadata": {},
   "source": [
    "### BULLET"
   ]
  },
  {
   "cell_type": "code",
   "execution_count": 25,
   "metadata": {},
   "outputs": [
    {
     "name": "stdout",
     "output_type": "stream",
     "text": [
      "64.93021945033267\n",
      "              precision    recall  f1-score   support\n",
      "\n",
      "           1    0.64480   0.65066   0.64772     80879\n",
      "           2    0.65380   0.64797   0.65087     82347\n",
      "\n",
      "    accuracy                        0.64930    163226\n",
      "   macro avg    0.64930   0.64931   0.64930    163226\n",
      "weighted avg    0.64934   0.64930   0.64931    163226\n",
      "\n"
     ]
    },
    {
     "data": {
      "text/plain": [
       "[(array([1817, 1697,    1,  305,    0,    5]), 39.75061670714437),\n",
       " (array([2279, 2221,    0,  103,    0,    6]), 39.128000759980644),\n",
       " (array([1998, 1937,    1,  203,    1,    3]), 0.0),\n",
       " (array([1802, 1894,    2,  107,    0,    8]), 18.58153693828725),\n",
       " (array([1883, 1604,    2,  265,    0,   13]), 0.39159570184980713),\n",
       " (array([1857, 1807,    2,  262,    1,   18]), 2.148249892737938)]"
      ]
     },
     "execution_count": 25,
     "metadata": {},
     "output_type": "execute_result"
    }
   ],
   "source": [
    "rf_classifier = RandomForestClassifier()\n",
    "rf_classifier.fit(X_bullet_train, y_bullet_train)\n",
    "classifier_accuracy = rf_classifier.score(X_bullet_test, y_bullet_test)\n",
    "y_bullet_pred = rf_classifier.predict(X_bullet_test)\n",
    "print(rf_classifier.score(X_bullet_test, y_bullet_test)*100)\n",
    "print(classification_report(y_bullet_test, y_bullet_pred,digits = 5))\n",
    "\n",
    "list(zip(X_train, rf_classifier.feature_importances_*100))"
   ]
  },
  {
   "cell_type": "markdown",
   "metadata": {},
   "source": [
    "### CLASSICAL"
   ]
  },
  {
   "cell_type": "code",
   "execution_count": 26,
   "metadata": {},
   "outputs": [
    {
     "name": "stdout",
     "output_type": "stream",
     "text": [
      "61.96767655905096\n",
      "              precision    recall  f1-score   support\n",
      "\n",
      "           1    0.61799   0.63237   0.62510     77684\n",
      "           2    0.62145   0.60691   0.61409     77250\n",
      "\n",
      "    accuracy                        0.61968    154934\n",
      "   macro avg    0.61972   0.61964   0.61960    154934\n",
      "weighted avg    0.61972   0.61968   0.61961    154934\n",
      "\n"
     ]
    },
    {
     "data": {
      "text/plain": [
       "[(array([1817, 1697,    1,  305,    0,    5]), 37.10450774853671),\n",
       " (array([2279, 2221,    0,  103,    0,    6]), 35.67125933687863),\n",
       " (array([1998, 1937,    1,  203,    1,    3]), 0.0),\n",
       " (array([1802, 1894,    2,  107,    0,    8]), 18.49620709992189),\n",
       " (array([1883, 1604,    2,  265,    0,   13]), 0.4324550426685643),\n",
       " (array([1857, 1807,    2,  262,    1,   18]), 8.29557077199419)]"
      ]
     },
     "execution_count": 26,
     "metadata": {},
     "output_type": "execute_result"
    }
   ],
   "source": [
    "rf_classifier = RandomForestClassifier()\n",
    "rf_classifier.fit(X_classical_train, y_classical_train)\n",
    "classifier_accuracy = rf_classifier.score(X_classical_test, y_classical_test)\n",
    "y_classical_pred = rf_classifier.predict(X_classical_test)\n",
    "print(rf_classifier.score(X_classical_test, y_classical_test)*100)\n",
    "print(classification_report(y_classical_test, y_classical_pred,digits = 5))\n",
    "list(zip(X_train, rf_classifier.feature_importances_*100))"
   ]
  },
  {
   "cell_type": "markdown",
   "metadata": {},
   "source": [
    "### CORRESPONDENCE"
   ]
  },
  {
   "cell_type": "code",
   "execution_count": 27,
   "metadata": {},
   "outputs": [
    {
     "name": "stdout",
     "output_type": "stream",
     "text": [
      "60.286137148495314\n",
      "              precision    recall  f1-score   support\n",
      "\n",
      "           1    0.59768   0.61370   0.60559      1007\n",
      "           2    0.60826   0.59216   0.60010      1020\n",
      "\n",
      "    accuracy                        0.60286      2027\n",
      "   macro avg    0.60297   0.60293   0.60284      2027\n",
      "weighted avg    0.60300   0.60286   0.60282      2027\n",
      "\n"
     ]
    },
    {
     "data": {
      "text/plain": [
       "[(array([1817, 1697,    1,  305,    0,    5]), 37.36238101481473),\n",
       " (array([2279, 2221,    0,  103,    0,    6]), 36.38615208394349),\n",
       " (array([1998, 1937,    1,  203,    1,    3]), 0.0),\n",
       " (array([1802, 1894,    2,  107,    0,    8]), 25.13391805441622),\n",
       " (array([1883, 1604,    2,  265,    0,   13]), 1.1175488468255508),\n",
       " (array([1857, 1807,    2,  262,    1,   18]), 0.0)]"
      ]
     },
     "execution_count": 27,
     "metadata": {},
     "output_type": "execute_result"
    }
   ],
   "source": [
    "rf_classifier = RandomForestClassifier()\n",
    "rf_classifier.fit(X_correspondence_train, y_correspondence_train)\n",
    "classifier_accuracy = rf_classifier.score(X_correspondence_test, y_correspondence_test)\n",
    "y_correspondence_pred = rf_classifier.predict(X_correspondence_test)\n",
    "print(rf_classifier.score(X_correspondence_test, y_correspondence_test)*100)\n",
    "print(classification_report(y_correspondence_test, y_correspondence_pred,digits = 5))\n",
    "list(zip(X_train, rf_classifier.feature_importances_*100))"
   ]
  },
  {
   "cell_type": "markdown",
   "metadata": {},
   "source": [
    "### RF - STROJONY"
   ]
  },
  {
   "cell_type": "code",
   "execution_count": 28,
   "metadata": {},
   "outputs": [
    {
     "name": "stdout",
     "output_type": "stream",
     "text": [
      "65.27957311713426\n",
      "              precision    recall  f1-score   support\n",
      "\n",
      "           1    0.65023   0.66324   0.65667    290470\n",
      "           2    0.65548   0.64232   0.64883    289736\n",
      "\n",
      "    accuracy                        0.65280    580206\n",
      "   macro avg    0.65285   0.65278   0.65275    580206\n",
      "weighted avg    0.65285   0.65280   0.65276    580206\n",
      "\n"
     ]
    },
    {
     "data": {
      "text/plain": [
       "[(array([1817, 1697,    1,  305,    0,    5]), 50.21877957522495),\n",
       " (array([2279, 2221,    0,  103,    0,    6]), 46.6144242736865),\n",
       " (array([1998, 1937,    1,  203,    1,    3]), 0.14694185824874162),\n",
       " (array([1802, 1894,    2,  107,    0,    8]), 2.0089063017708155),\n",
       " (array([1883, 1604,    2,  265,    0,   13]), 0.3630295809237678),\n",
       " (array([1857, 1807,    2,  262,    1,   18]), 0.6479184101452297)]"
      ]
     },
     "execution_count": 28,
     "metadata": {},
     "output_type": "execute_result"
    }
   ],
   "source": [
    "rf_classifier = RandomForestClassifier(n_estimators=100, max_depth=6, min_samples_leaf=8, min_samples_split=15, n_jobs=-1, bootstrap=True)\n",
    "rf_classifier.fit(X_train, y_train)\n",
    "classifier_accuracy = rf_classifier.score(X_test, y_test)\n",
    "\n",
    "y_pred = rf_classifier.predict(X_test)\n",
    "print(rf_classifier.score(X_test, y_test)*100)\n",
    "print(classification_report(y_test, y_pred,digits = 5))\n",
    "\n",
    "list(zip(X_train, rf_classifier.feature_importances_*100))"
   ]
  }
 ],
 "metadata": {
  "interpreter": {
   "hash": "32ee103e807441b8b43ef544df75b395a3ebfbafac956e5e2fedbb31b18d2dc5"
  },
  "kernelspec": {
   "display_name": "Python 3.9.7 64-bit ('kamil': conda)",
   "language": "python",
   "name": "python3"
  },
  "language_info": {
   "codemirror_mode": {
    "name": "ipython",
    "version": 3
   },
   "file_extension": ".py",
   "mimetype": "text/x-python",
   "name": "python",
   "nbconvert_exporter": "python",
   "pygments_lexer": "ipython3",
   "version": "3.9.7"
  },
  "orig_nbformat": 4
 },
 "nbformat": 4,
 "nbformat_minor": 2
}
