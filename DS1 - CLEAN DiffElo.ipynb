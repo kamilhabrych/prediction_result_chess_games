{
 "cells": [
  {
   "cell_type": "code",
   "execution_count": 83,
   "metadata": {},
   "outputs": [],
   "source": [
    "import pandas as pd\n",
    "from sklearn.model_selection import train_test_split\n",
    "from sklearn.model_selection import cross_val_score\n",
    "from sklearn.metrics import classification_report\n",
    "import matplotlib.pyplot as plt\n",
    "from sklearn.metrics import accuracy_score, log_loss\n",
    "from sklearn.neighbors import KNeighborsClassifier\n",
    "from sklearn.svm import SVC, LinearSVC, NuSVC\n",
    "from sklearn.tree import DecisionTreeClassifier\n",
    "from sklearn.ensemble import RandomForestClassifier, AdaBoostClassifier, GradientBoostingClassifier\n",
    "from sklearn.naive_bayes import GaussianNB\n",
    "from sklearn.discriminant_analysis import LinearDiscriminantAnalysis\n",
    "from sklearn.discriminant_analysis import QuadraticDiscriminantAnalysis"
   ]
  },
  {
   "cell_type": "code",
   "execution_count": 84,
   "metadata": {},
   "outputs": [],
   "source": [
    "df_sample = pd.read_csv('../csv/df_sample.csv')"
   ]
  },
  {
   "cell_type": "code",
   "execution_count": 85,
   "metadata": {},
   "outputs": [],
   "source": [
    "df_sample['EloDiff'] = df_sample['WhiteElo'] - df_sample['BlackElo']\n",
    "df_sample.drop(['BlackElo','WhiteElo'],axis=1,inplace=True)"
   ]
  },
  {
   "cell_type": "code",
   "execution_count": 86,
   "metadata": {},
   "outputs": [
    {
     "data": {
      "text/html": [
       "<div>\n",
       "<style scoped>\n",
       "    .dataframe tbody tr th:only-of-type {\n",
       "        vertical-align: middle;\n",
       "    }\n",
       "\n",
       "    .dataframe tbody tr th {\n",
       "        vertical-align: top;\n",
       "    }\n",
       "\n",
       "    .dataframe thead th {\n",
       "        text-align: right;\n",
       "    }\n",
       "</style>\n",
       "<table border=\"1\" class=\"dataframe\">\n",
       "  <thead>\n",
       "    <tr style=\"text-align: right;\">\n",
       "      <th></th>\n",
       "      <th>Result</th>\n",
       "      <th>Event_enc</th>\n",
       "      <th>ECO_enc</th>\n",
       "      <th>Termination_enc</th>\n",
       "      <th>TimeControl_enc</th>\n",
       "      <th>EloDiff</th>\n",
       "    </tr>\n",
       "  </thead>\n",
       "  <tbody>\n",
       "    <tr>\n",
       "      <th>0</th>\n",
       "      <td>1</td>\n",
       "      <td>1</td>\n",
       "      <td>311</td>\n",
       "      <td>1</td>\n",
       "      <td>5</td>\n",
       "      <td>-25</td>\n",
       "    </tr>\n",
       "    <tr>\n",
       "      <th>1</th>\n",
       "      <td>1</td>\n",
       "      <td>2</td>\n",
       "      <td>101</td>\n",
       "      <td>1</td>\n",
       "      <td>13</td>\n",
       "      <td>137</td>\n",
       "    </tr>\n",
       "    <tr>\n",
       "      <th>2</th>\n",
       "      <td>1</td>\n",
       "      <td>0</td>\n",
       "      <td>291</td>\n",
       "      <td>0</td>\n",
       "      <td>6</td>\n",
       "      <td>8</td>\n",
       "    </tr>\n",
       "    <tr>\n",
       "      <th>3</th>\n",
       "      <td>1</td>\n",
       "      <td>1</td>\n",
       "      <td>200</td>\n",
       "      <td>0</td>\n",
       "      <td>3</td>\n",
       "      <td>188</td>\n",
       "    </tr>\n",
       "    <tr>\n",
       "      <th>4</th>\n",
       "      <td>1</td>\n",
       "      <td>0</td>\n",
       "      <td>46</td>\n",
       "      <td>0</td>\n",
       "      <td>6</td>\n",
       "      <td>568</td>\n",
       "    </tr>\n",
       "  </tbody>\n",
       "</table>\n",
       "</div>"
      ],
      "text/plain": [
       "   Result  Event_enc  ECO_enc  Termination_enc  TimeControl_enc  EloDiff\n",
       "0       1          1      311                1                5      -25\n",
       "1       1          2      101                1               13      137\n",
       "2       1          0      291                0                6        8\n",
       "3       1          1      200                0                3      188\n",
       "4       1          0       46                0                6      568"
      ]
     },
     "execution_count": 86,
     "metadata": {},
     "output_type": "execute_result"
    }
   ],
   "source": [
    "df_sample.head()"
   ]
  },
  {
   "cell_type": "code",
   "execution_count": 87,
   "metadata": {},
   "outputs": [
    {
     "data": {
      "text/plain": [
       "(561486, 6)"
      ]
     },
     "execution_count": 87,
     "metadata": {},
     "output_type": "execute_result"
    }
   ],
   "source": [
    "df_sample.shape"
   ]
  },
  {
   "cell_type": "code",
   "execution_count": 88,
   "metadata": {},
   "outputs": [],
   "source": [
    "df_sample_features = df_sample.drop('Result', axis = 1)"
   ]
  },
  {
   "cell_type": "code",
   "execution_count": 89,
   "metadata": {},
   "outputs": [],
   "source": [
    "X = df_sample_features.values\n",
    "y = df_sample['Result'].values\n",
    "\n",
    "X_train, X_test, y_train, y_test = train_test_split(X, y, test_size=0.1, random_state = 42)"
   ]
  },
  {
   "cell_type": "markdown",
   "metadata": {},
   "source": [
    "# Podział"
   ]
  },
  {
   "cell_type": "code",
   "execution_count": 90,
   "metadata": {},
   "outputs": [],
   "source": [
    "df_blitz = df_sample[df_sample['Event_enc'] == 0]\n",
    "df_bullet = df_sample[df_sample['Event_enc'] == 1]\n",
    "df_classical = df_sample[df_sample['Event_enc'] == 2]\n",
    "df_correspondence = df_sample[df_sample['Event_enc'] == 3]"
   ]
  },
  {
   "cell_type": "code",
   "execution_count": 91,
   "metadata": {},
   "outputs": [],
   "source": [
    "df_blitz_features = df_blitz.drop('Result', axis = 1)\n",
    "df_bullet_features = df_bullet.drop('Result', axis = 1)\n",
    "df_classical_features = df_classical.drop('Result', axis = 1)\n",
    "df_correspondence_features = df_correspondence.drop('Result', axis = 1)"
   ]
  },
  {
   "cell_type": "markdown",
   "metadata": {},
   "source": [
    "# DT"
   ]
  },
  {
   "cell_type": "markdown",
   "metadata": {},
   "source": [
    "### BASIC"
   ]
  },
  {
   "cell_type": "code",
   "execution_count": 92,
   "metadata": {},
   "outputs": [
    {
     "name": "stdout",
     "output_type": "stream",
     "text": [
      "41.85826996028425\n",
      "              precision    recall  f1-score   support\n",
      "\n",
      "           1    0.40370   0.45298   0.42692     18716\n",
      "           2    0.41823   0.41092   0.41454     18651\n",
      "           3    0.43756   0.39192   0.41348     18782\n",
      "\n",
      "    accuracy                        0.41858     56149\n",
      "   macro avg    0.41983   0.41861   0.41831     56149\n",
      "weighted avg    0.41985   0.41858   0.41831     56149\n",
      "\n"
     ]
    },
    {
     "data": {
      "text/plain": [
       "[(array([  0, 304,   1,   8, 242]), 3.4773348223767835),\n",
       " (array([  1, 100,   0,   3,  71]), 30.32440100521802),\n",
       " (array([  2, 101,   0,   8,  40]), 9.746563836700432),\n",
       " (array([   1,    0,    0,    1, -222]), 16.026421821316198),\n",
       " (array([  1, 302,   0,   3,  -8]), 40.42527851438855)]"
      ]
     },
     "execution_count": 92,
     "metadata": {},
     "output_type": "execute_result"
    }
   ],
   "source": [
    "decision_tree_classifier = DecisionTreeClassifier()\n",
    "decision_tree_classifier.fit(X_train, y_train)\n",
    "classifier_accuracy = decision_tree_classifier.score(X_test, y_test)\n",
    "\n",
    "y_pred = decision_tree_classifier.predict(X_test)\n",
    "print(decision_tree_classifier.score(X_test, y_test)*100)\n",
    "print(classification_report(y_test, y_pred,digits = 5))\n",
    "\n",
    "list(zip(X_train, decision_tree_classifier.feature_importances_*100))"
   ]
  },
  {
   "cell_type": "markdown",
   "metadata": {},
   "source": [
    "### BLITZ"
   ]
  },
  {
   "cell_type": "code",
   "execution_count": 93,
   "metadata": {},
   "outputs": [],
   "source": [
    "X_blitz = df_blitz_features.values\n",
    "y_blitz = df_blitz['Result'].values\n",
    "\n",
    "X_blitz_train, X_blitz_test, y_blitz_train, y_blitz_test = train_test_split(X_blitz, y_blitz, test_size=0.1, random_state = 42)"
   ]
  },
  {
   "cell_type": "code",
   "execution_count": 94,
   "metadata": {},
   "outputs": [
    {
     "name": "stdout",
     "output_type": "stream",
     "text": [
      "41.0097192224622\n",
      "              precision    recall  f1-score   support\n",
      "\n",
      "           1    0.38457   0.43765   0.40940      8340\n",
      "           2    0.40835   0.39698   0.40258      8406\n",
      "           3    0.44114   0.39708   0.41795      9182\n",
      "\n",
      "    accuracy                        0.41010     25928\n",
      "   macro avg    0.41135   0.41057   0.40998     25928\n",
      "weighted avg    0.41231   0.41010   0.41022     25928\n",
      "\n"
     ]
    },
    {
     "data": {
      "text/plain": [
       "[(array([  0, 304,   1,   8, 242]), 0.0),\n",
       " (array([  1, 100,   0,   3,  71]), 37.479382453287805),\n",
       " (array([  2, 101,   0,   8,  40]), 9.621008985858497),\n",
       " (array([   1,    0,    0,    1, -222]), 9.713009021730738),\n",
       " (array([  1, 302,   0,   3,  -8]), 43.186599539122966)]"
      ]
     },
     "execution_count": 94,
     "metadata": {},
     "output_type": "execute_result"
    }
   ],
   "source": [
    "decision_tree_classifier = DecisionTreeClassifier()\n",
    "decision_tree_classifier.fit(X_blitz_train, y_blitz_train)\n",
    "classifier_accuracy = decision_tree_classifier.score(X_blitz_test, y_blitz_test)\n",
    "y_blitz_pred = decision_tree_classifier.predict(X_blitz_test)\n",
    "print(decision_tree_classifier.score(X_blitz_test, y_blitz_test)*100)\n",
    "print(classification_report(y_blitz_test, y_blitz_pred,digits = 5))\n",
    "list(zip(X_train, decision_tree_classifier.feature_importances_*100))"
   ]
  },
  {
   "cell_type": "markdown",
   "metadata": {},
   "source": [
    "### BULLET"
   ]
  },
  {
   "cell_type": "code",
   "execution_count": 95,
   "metadata": {},
   "outputs": [],
   "source": [
    "X_bullet = df_bullet_features.values\n",
    "y_bullet = df_bullet['Result'].values\n",
    "\n",
    "X_bullet_train, X_bullet_test, y_bullet_train, y_bullet_test = train_test_split(X_bullet, y_bullet, test_size=0.1, random_state = 42)"
   ]
  },
  {
   "cell_type": "code",
   "execution_count": 96,
   "metadata": {},
   "outputs": [
    {
     "name": "stdout",
     "output_type": "stream",
     "text": [
      "46.87477208081103\n",
      "              precision    recall  f1-score   support\n",
      "\n",
      "           1    0.47053   0.52376   0.49572      5197\n",
      "           2    0.49413   0.47366   0.48368      5240\n",
      "           3    0.42129   0.37355   0.39599      3274\n",
      "\n",
      "    accuracy                        0.46875     13711\n",
      "   macro avg    0.46198   0.45699   0.45846     13711\n",
      "weighted avg    0.46779   0.46875   0.46730     13711\n",
      "\n"
     ]
    },
    {
     "data": {
      "text/plain": [
       "[(array([  0, 304,   1,   8, 242]), 0.0),\n",
       " (array([  1, 100,   0,   3,  71]), 33.363626241207065),\n",
       " (array([  2, 101,   0,   8,  40]), 11.614487787925274),\n",
       " (array([   1,    0,    0,    1, -222]), 7.046670682517539),\n",
       " (array([  1, 302,   0,   3,  -8]), 47.97521528835013)]"
      ]
     },
     "execution_count": 96,
     "metadata": {},
     "output_type": "execute_result"
    }
   ],
   "source": [
    "decision_tree_classifier = DecisionTreeClassifier()\n",
    "decision_tree_classifier.fit(X_bullet_train, y_bullet_train)\n",
    "classifier_accuracy = decision_tree_classifier.score(X_bullet_test, y_bullet_test)\n",
    "y_bullet_pred = decision_tree_classifier.predict(X_bullet_test)\n",
    "print(decision_tree_classifier.score(X_bullet_test, y_bullet_test)*100)\n",
    "print(classification_report(y_bullet_test, y_bullet_pred,digits = 5))\n",
    "\n",
    "list(zip(X_train, decision_tree_classifier.feature_importances_*100))"
   ]
  },
  {
   "cell_type": "markdown",
   "metadata": {},
   "source": [
    "### CLASSICAL"
   ]
  },
  {
   "cell_type": "code",
   "execution_count": 97,
   "metadata": {},
   "outputs": [],
   "source": [
    "X_classical = df_classical_features.values\n",
    "y_classical = df_classical['Result'].values\n",
    "\n",
    "X_classical_train, X_classical_test, y_classical_train, y_classical_test = train_test_split(X_classical, y_classical, test_size=0.1, random_state = 42)"
   ]
  },
  {
   "cell_type": "code",
   "execution_count": 98,
   "metadata": {},
   "outputs": [
    {
     "name": "stdout",
     "output_type": "stream",
     "text": [
      "39.911417322834644\n",
      "              precision    recall  f1-score   support\n",
      "\n",
      "           1    0.35791   0.41791   0.38559      4879\n",
      "           2    0.38179   0.37891   0.38034      5025\n",
      "           3    0.45675   0.40066   0.42687      6352\n",
      "\n",
      "    accuracy                        0.39911     16256\n",
      "   macro avg    0.39882   0.39916   0.39760     16256\n",
      "weighted avg    0.40391   0.39911   0.40010     16256\n",
      "\n"
     ]
    },
    {
     "data": {
      "text/plain": [
       "[(array([  0, 304,   1,   8, 242]), 0.0),\n",
       " (array([  1, 100,   0,   3,  71]), 32.57192185670029),\n",
       " (array([  2, 101,   0,   8,  40]), 5.151399555498486),\n",
       " (array([   1,    0,    0,    1, -222]), 18.79230760837022),\n",
       " (array([  1, 302,   0,   3,  -8]), 43.484370979431006)]"
      ]
     },
     "execution_count": 98,
     "metadata": {},
     "output_type": "execute_result"
    }
   ],
   "source": [
    "decision_tree_classifier = DecisionTreeClassifier()\n",
    "decision_tree_classifier.fit(X_classical_train, y_classical_train)\n",
    "classifier_accuracy = decision_tree_classifier.score(X_classical_test, y_classical_test)\n",
    "y_classical_pred = decision_tree_classifier.predict(X_classical_test)\n",
    "print(decision_tree_classifier.score(X_classical_test, y_classical_test)*100)\n",
    "print(classification_report(y_classical_test, y_classical_pred,digits = 5))\n",
    "list(zip(X_train, decision_tree_classifier.feature_importances_*100))"
   ]
  },
  {
   "cell_type": "markdown",
   "metadata": {},
   "source": [
    "### CORRESPONDENCE"
   ]
  },
  {
   "cell_type": "code",
   "execution_count": 99,
   "metadata": {},
   "outputs": [],
   "source": [
    "X_correspondence = df_correspondence_features.values\n",
    "y_correspondence = df_correspondence['Result'].values\n",
    "\n",
    "X_correspondence_train, X_correspondence_test, y_correspondence_train, y_correspondence_test = train_test_split(X_correspondence, y_correspondence, test_size=0.1, random_state = 42)"
   ]
  },
  {
   "cell_type": "code",
   "execution_count": 100,
   "metadata": {},
   "outputs": [
    {
     "name": "stdout",
     "output_type": "stream",
     "text": [
      "45.703125\n",
      "              precision    recall  f1-score   support\n",
      "\n",
      "           1    0.28125   0.32143   0.30000        56\n",
      "           2    0.39706   0.40909   0.40299        66\n",
      "           3    0.58065   0.53731   0.55814       134\n",
      "\n",
      "    accuracy                        0.45703       256\n",
      "   macro avg    0.41965   0.42261   0.42037       256\n",
      "weighted avg    0.46782   0.45703   0.46167       256\n",
      "\n"
     ]
    },
    {
     "data": {
      "text/plain": [
       "[(array([  0, 304,   1,   8, 242]), 0.0),\n",
       " (array([  1, 100,   0,   3,  71]), 33.53261719776274),\n",
       " (array([  2, 101,   0,   8,  40]), 8.242481243013797),\n",
       " (array([   1,    0,    0,    1, -222]), 0.0),\n",
       " (array([  1, 302,   0,   3,  -8]), 58.224901559223476)]"
      ]
     },
     "execution_count": 100,
     "metadata": {},
     "output_type": "execute_result"
    }
   ],
   "source": [
    "decision_tree_classifier = DecisionTreeClassifier()\n",
    "decision_tree_classifier.fit(X_correspondence_train, y_correspondence_train)\n",
    "classifier_accuracy = decision_tree_classifier.score(X_correspondence_test, y_correspondence_test)\n",
    "y_correspondence_pred = decision_tree_classifier.predict(X_correspondence_test)\n",
    "print(decision_tree_classifier.score(X_correspondence_test, y_correspondence_test)*100)\n",
    "print(classification_report(y_correspondence_test, y_correspondence_pred,digits = 5))\n",
    "list(zip(X_train, decision_tree_classifier.feature_importances_*100))"
   ]
  },
  {
   "cell_type": "markdown",
   "metadata": {},
   "source": [
    "### DT - STROJONY"
   ]
  },
  {
   "cell_type": "code",
   "execution_count": 101,
   "metadata": {},
   "outputs": [
    {
     "name": "stdout",
     "output_type": "stream",
     "text": [
      "51.44348073874868\n",
      "              precision    recall  f1-score   support\n",
      "\n",
      "           1    0.59594   0.35793   0.44724     18716\n",
      "           2    0.58504   0.41000   0.48213     18651\n",
      "           3    0.45667   0.77409   0.57445     18782\n",
      "\n",
      "    accuracy                        0.51443     56149\n",
      "   macro avg    0.54588   0.51401   0.50127     56149\n",
      "weighted avg    0.54573   0.51443   0.50138     56149\n",
      "\n"
     ]
    },
    {
     "data": {
      "text/plain": [
       "[(array([  0, 304,   1,   8, 242]), 0.05834667025597098),\n",
       " (array([  1, 100,   0,   3,  71]), 0.23350587817253804),\n",
       " (array([  2, 101,   0,   8,  40]), 51.71366875063267),\n",
       " (array([   1,    0,    0,    1, -222]), 0.2663722752298598),\n",
       " (array([  1, 302,   0,   3,  -8]), 47.728106425708965)]"
      ]
     },
     "execution_count": 101,
     "metadata": {},
     "output_type": "execute_result"
    }
   ],
   "source": [
    "decision_tree_classifier = DecisionTreeClassifier(max_depth=6, max_features=5)\n",
    "decision_tree_classifier.fit(X_train, y_train)\n",
    "classifier_accuracy = decision_tree_classifier.score(X_test, y_test)\n",
    "\n",
    "y_pred = decision_tree_classifier.predict(X_test)\n",
    "print(decision_tree_classifier.score(X_test, y_test)*100)\n",
    "print(classification_report(y_test, y_pred,digits = 5))\n",
    "\n",
    "list(zip(X_train, decision_tree_classifier.feature_importances_*100))"
   ]
  },
  {
   "cell_type": "markdown",
   "metadata": {},
   "source": [
    "# RF"
   ]
  },
  {
   "cell_type": "code",
   "execution_count": 102,
   "metadata": {},
   "outputs": [],
   "source": [
    "from sklearn.model_selection import cross_val_score\n",
    "from sklearn.metrics import classification_report\n",
    "from sklearn.ensemble import RandomForestClassifier\n",
    "import matplotlib.pyplot as plt"
   ]
  },
  {
   "cell_type": "markdown",
   "metadata": {},
   "source": [
    "### BASIC"
   ]
  },
  {
   "cell_type": "code",
   "execution_count": 103,
   "metadata": {},
   "outputs": [
    {
     "name": "stdout",
     "output_type": "stream",
     "text": [
      "44.36410265543464\n",
      "              precision    recall  f1-score   support\n",
      "\n",
      "           1    0.44111   0.41943   0.43000     18716\n",
      "           2    0.44788   0.42711   0.43725     18651\n",
      "           3    0.44216   0.48419   0.46222     18782\n",
      "\n",
      "    accuracy                        0.44364     56149\n",
      "   macro avg    0.44372   0.44357   0.44316     56149\n",
      "weighted avg    0.44371   0.44364   0.44318     56149\n",
      "\n"
     ]
    },
    {
     "data": {
      "text/plain": [
       "[(array([  0, 304,   1,   8, 242]), 0.5919342062481115),\n",
       " (array([  1, 100,   0,   3,  71]), 33.77401994783949),\n",
       " (array([  2, 101,   0,   8,  40]), 8.642019036112437),\n",
       " (array([   1,    0,    0,    1, -222]), 6.423415926538392),\n",
       " (array([  1, 302,   0,   3,  -8]), 50.56861088326158)]"
      ]
     },
     "execution_count": 103,
     "metadata": {},
     "output_type": "execute_result"
    }
   ],
   "source": [
    "rf_classifier = RandomForestClassifier()\n",
    "rf_classifier.fit(X_train, y_train)\n",
    "classifier_accuracy = rf_classifier.score(X_test, y_test)\n",
    "\n",
    "y_pred = rf_classifier.predict(X_test)\n",
    "print(rf_classifier.score(X_test, y_test)*100)\n",
    "print(classification_report(y_test, y_pred,digits = 5))\n",
    "\n",
    "list(zip(X_train, rf_classifier.feature_importances_*100))"
   ]
  },
  {
   "cell_type": "markdown",
   "metadata": {},
   "source": [
    "### BLITZ"
   ]
  },
  {
   "cell_type": "code",
   "execution_count": 104,
   "metadata": {},
   "outputs": [
    {
     "name": "stdout",
     "output_type": "stream",
     "text": [
      "43.9370564640543\n",
      "              precision    recall  f1-score   support\n",
      "\n",
      "           1    0.42055   0.39317   0.40640      8340\n",
      "           2    0.44000   0.41744   0.42842      8406\n",
      "           3    0.45333   0.50142   0.47616      9182\n",
      "\n",
      "    accuracy                        0.43937     25928\n",
      "   macro avg    0.43796   0.43734   0.43699     25928\n",
      "weighted avg    0.43846   0.43937   0.43824     25928\n",
      "\n"
     ]
    },
    {
     "data": {
      "text/plain": [
       "[(array([  0, 304,   1,   8, 242]), 0.0),\n",
       " (array([  1, 100,   0,   3,  71]), 36.35480626682027),\n",
       " (array([  2, 101,   0,   8,  40]), 8.5858991626655),\n",
       " (array([   1,    0,    0,    1, -222]), 2.6936550013827736),\n",
       " (array([  1, 302,   0,   3,  -8]), 52.36563956913145)]"
      ]
     },
     "execution_count": 104,
     "metadata": {},
     "output_type": "execute_result"
    }
   ],
   "source": [
    "rf_classifier = RandomForestClassifier()\n",
    "rf_classifier.fit(X_blitz_train, y_blitz_train)\n",
    "classifier_accuracy = rf_classifier.score(X_blitz_test, y_blitz_test)\n",
    "y_blitz_pred = rf_classifier.predict(X_blitz_test)\n",
    "print(rf_classifier.score(X_blitz_test, y_blitz_test)*100)\n",
    "print(classification_report(y_blitz_test, y_blitz_pred,digits = 5))\n",
    "list(zip(X_train, rf_classifier.feature_importances_*100))"
   ]
  },
  {
   "cell_type": "markdown",
   "metadata": {},
   "source": [
    "### BULLET"
   ]
  },
  {
   "cell_type": "code",
   "execution_count": 105,
   "metadata": {},
   "outputs": [
    {
     "name": "stdout",
     "output_type": "stream",
     "text": [
      "49.20866457588797\n",
      "              precision    recall  f1-score   support\n",
      "\n",
      "           1    0.50261   0.50087   0.50173      5197\n",
      "           2    0.52212   0.50897   0.51546      5240\n",
      "           3    0.43137   0.45113   0.44103      3274\n",
      "\n",
      "    accuracy                        0.49209     13711\n",
      "   macro avg    0.48537   0.48699   0.48607     13711\n",
      "weighted avg    0.49305   0.49209   0.49248     13711\n",
      "\n"
     ]
    },
    {
     "data": {
      "text/plain": [
       "[(array([  0, 304,   1,   8, 242]), 0.0),\n",
       " (array([  1, 100,   0,   3,  71]), 30.06366319145201),\n",
       " (array([  2, 101,   0,   8,  40]), 10.858970597465197),\n",
       " (array([   1,    0,    0,    1, -222]), 1.737075471813277),\n",
       " (array([  1, 302,   0,   3,  -8]), 57.340290739269506)]"
      ]
     },
     "execution_count": 105,
     "metadata": {},
     "output_type": "execute_result"
    }
   ],
   "source": [
    "rf_classifier = RandomForestClassifier()\n",
    "rf_classifier.fit(X_bullet_train, y_bullet_train)\n",
    "classifier_accuracy = rf_classifier.score(X_bullet_test, y_bullet_test)\n",
    "y_bullet_pred = rf_classifier.predict(X_bullet_test)\n",
    "print(rf_classifier.score(X_bullet_test, y_bullet_test)*100)\n",
    "print(classification_report(y_bullet_test, y_bullet_pred,digits = 5))\n",
    "\n",
    "list(zip(X_train, rf_classifier.feature_importances_*100))"
   ]
  },
  {
   "cell_type": "markdown",
   "metadata": {},
   "source": [
    "### CLASSICAL"
   ]
  },
  {
   "cell_type": "code",
   "execution_count": 106,
   "metadata": {},
   "outputs": [
    {
     "name": "stdout",
     "output_type": "stream",
     "text": [
      "42.384350393700785\n",
      "              precision    recall  f1-score   support\n",
      "\n",
      "           1    0.39405   0.38307   0.38848      4879\n",
      "           2    0.40556   0.37174   0.38791      5025\n",
      "           3    0.45649   0.49638   0.47560      6352\n",
      "\n",
      "    accuracy                        0.42384     16256\n",
      "   macro avg    0.41870   0.41706   0.41733     16256\n",
      "weighted avg    0.42201   0.42384   0.42235     16256\n",
      "\n"
     ]
    },
    {
     "data": {
      "text/plain": [
       "[(array([  0, 304,   1,   8, 242]), 0.0),\n",
       " (array([  1, 100,   0,   3,  71]), 29.141291507204954),\n",
       " (array([  2, 101,   0,   8,  40]), 4.725333608062803),\n",
       " (array([   1,    0,    0,    1, -222]), 10.86909646084928),\n",
       " (array([  1, 302,   0,   3,  -8]), 55.26427842388296)]"
      ]
     },
     "execution_count": 106,
     "metadata": {},
     "output_type": "execute_result"
    }
   ],
   "source": [
    "rf_classifier = RandomForestClassifier()\n",
    "rf_classifier.fit(X_classical_train, y_classical_train)\n",
    "classifier_accuracy = rf_classifier.score(X_classical_test, y_classical_test)\n",
    "y_classical_pred = rf_classifier.predict(X_classical_test)\n",
    "print(rf_classifier.score(X_classical_test, y_classical_test)*100)\n",
    "print(classification_report(y_classical_test, y_classical_pred,digits = 5))\n",
    "list(zip(X_train, rf_classifier.feature_importances_*100))"
   ]
  },
  {
   "cell_type": "markdown",
   "metadata": {},
   "source": [
    "### CORRESPONDENCE"
   ]
  },
  {
   "cell_type": "code",
   "execution_count": 107,
   "metadata": {},
   "outputs": [
    {
     "name": "stdout",
     "output_type": "stream",
     "text": [
      "48.828125\n",
      "              precision    recall  f1-score   support\n",
      "\n",
      "           1    0.33929   0.33929   0.33929        56\n",
      "           2    0.43103   0.37879   0.40323        66\n",
      "           3    0.57042   0.60448   0.58696       134\n",
      "\n",
      "    accuracy                        0.48828       256\n",
      "   macro avg    0.44691   0.44085   0.44316       256\n",
      "weighted avg    0.48393   0.48828   0.48541       256\n",
      "\n"
     ]
    },
    {
     "data": {
      "text/plain": [
       "[(array([  0, 304,   1,   8, 242]), 0.0),\n",
       " (array([  1, 100,   0,   3,  71]), 32.43607155078441),\n",
       " (array([  2, 101,   0,   8,  40]), 8.283793900682069),\n",
       " (array([   1,    0,    0,    1, -222]), 0.0),\n",
       " (array([  1, 302,   0,   3,  -8]), 59.28013454853351)]"
      ]
     },
     "execution_count": 107,
     "metadata": {},
     "output_type": "execute_result"
    }
   ],
   "source": [
    "rf_classifier = RandomForestClassifier()\n",
    "rf_classifier.fit(X_correspondence_train, y_correspondence_train)\n",
    "classifier_accuracy = rf_classifier.score(X_correspondence_test, y_correspondence_test)\n",
    "y_correspondence_pred = rf_classifier.predict(X_correspondence_test)\n",
    "print(rf_classifier.score(X_correspondence_test, y_correspondence_test)*100)\n",
    "print(classification_report(y_correspondence_test, y_correspondence_pred,digits = 5))\n",
    "list(zip(X_train, rf_classifier.feature_importances_*100))"
   ]
  },
  {
   "cell_type": "markdown",
   "metadata": {},
   "source": [
    "### RF - STROJONY"
   ]
  },
  {
   "cell_type": "code",
   "execution_count": 108,
   "metadata": {},
   "outputs": [
    {
     "name": "stdout",
     "output_type": "stream",
     "text": [
      "51.4114231776167\n",
      "              precision    recall  f1-score   support\n",
      "\n",
      "           1    0.60550   0.35510   0.44766     18716\n",
      "           2    0.61613   0.35430   0.44989     18651\n",
      "           3    0.45323   0.83127   0.58662     18782\n",
      "\n",
      "    accuracy                        0.51411     56149\n",
      "   macro avg    0.55829   0.51356   0.49473     56149\n",
      "weighted avg    0.55810   0.51411   0.49489     56149\n",
      "\n"
     ]
    },
    {
     "data": {
      "text/plain": [
       "[(array([  0, 304,   1,   8, 242]), 0.6902447006415262),\n",
       " (array([  1, 100,   0,   3,  71]), 0.572605684739938),\n",
       " (array([  2, 101,   0,   8,  40]), 54.33988864804176),\n",
       " (array([   1,    0,    0,    1, -222]), 2.279920713731898),\n",
       " (array([  1, 302,   0,   3,  -8]), 42.11734025284489)]"
      ]
     },
     "execution_count": 108,
     "metadata": {},
     "output_type": "execute_result"
    }
   ],
   "source": [
    "rf_classifier = RandomForestClassifier(n_estimators=100, max_depth=6, min_samples_leaf=8, min_samples_split=15, n_jobs=-1, bootstrap=True)\n",
    "rf_classifier.fit(X_train, y_train)\n",
    "classifier_accuracy = rf_classifier.score(X_test, y_test)\n",
    "\n",
    "y_pred = rf_classifier.predict(X_test)\n",
    "print(rf_classifier.score(X_test, y_test)*100)\n",
    "print(classification_report(y_test, y_pred,digits = 5))\n",
    "\n",
    "list(zip(X_train, rf_classifier.feature_importances_*100))"
   ]
  },
  {
   "cell_type": "markdown",
   "metadata": {},
   "source": [
    "# D2\n"
   ]
  },
  {
   "cell_type": "code",
   "execution_count": 109,
   "metadata": {},
   "outputs": [
    {
     "data": {
      "text/html": [
       "<div>\n",
       "<style scoped>\n",
       "    .dataframe tbody tr th:only-of-type {\n",
       "        vertical-align: middle;\n",
       "    }\n",
       "\n",
       "    .dataframe tbody tr th {\n",
       "        vertical-align: top;\n",
       "    }\n",
       "\n",
       "    .dataframe thead th {\n",
       "        text-align: right;\n",
       "    }\n",
       "</style>\n",
       "<table border=\"1\" class=\"dataframe\">\n",
       "  <thead>\n",
       "    <tr style=\"text-align: right;\">\n",
       "      <th></th>\n",
       "      <th>Unnamed: 0</th>\n",
       "      <th>Result</th>\n",
       "      <th>WhiteElo</th>\n",
       "      <th>BlackElo</th>\n",
       "      <th>EloDiff</th>\n",
       "      <th>Event</th>\n",
       "      <th>ECO_enc</th>\n",
       "      <th>Termination</th>\n",
       "      <th>TimeControl_enc</th>\n",
       "    </tr>\n",
       "  </thead>\n",
       "  <tbody>\n",
       "    <tr>\n",
       "      <th>0</th>\n",
       "      <td>0</td>\n",
       "      <td>1</td>\n",
       "      <td>2460</td>\n",
       "      <td>2218</td>\n",
       "      <td>242</td>\n",
       "      <td>0</td>\n",
       "      <td>200</td>\n",
       "      <td>1</td>\n",
       "      <td>6</td>\n",
       "    </tr>\n",
       "    <tr>\n",
       "      <th>1</th>\n",
       "      <td>1</td>\n",
       "      <td>1</td>\n",
       "      <td>2428</td>\n",
       "      <td>2424</td>\n",
       "      <td>4</td>\n",
       "      <td>0</td>\n",
       "      <td>483</td>\n",
       "      <td>0</td>\n",
       "      <td>6</td>\n",
       "    </tr>\n",
       "    <tr>\n",
       "      <th>2</th>\n",
       "      <td>2</td>\n",
       "      <td>1</td>\n",
       "      <td>2441</td>\n",
       "      <td>2300</td>\n",
       "      <td>141</td>\n",
       "      <td>4</td>\n",
       "      <td>106</td>\n",
       "      <td>0</td>\n",
       "      <td>13</td>\n",
       "    </tr>\n",
       "    <tr>\n",
       "      <th>3</th>\n",
       "      <td>3</td>\n",
       "      <td>2</td>\n",
       "      <td>2280</td>\n",
       "      <td>2667</td>\n",
       "      <td>-387</td>\n",
       "      <td>0</td>\n",
       "      <td>464</td>\n",
       "      <td>0</td>\n",
       "      <td>6</td>\n",
       "    </tr>\n",
       "    <tr>\n",
       "      <th>4</th>\n",
       "      <td>4</td>\n",
       "      <td>1</td>\n",
       "      <td>2557</td>\n",
       "      <td>2682</td>\n",
       "      <td>-125</td>\n",
       "      <td>0</td>\n",
       "      <td>41</td>\n",
       "      <td>0</td>\n",
       "      <td>6</td>\n",
       "    </tr>\n",
       "  </tbody>\n",
       "</table>\n",
       "</div>"
      ],
      "text/plain": [
       "   Unnamed: 0  Result  WhiteElo  BlackElo  EloDiff  Event  ECO_enc  \\\n",
       "0           0       1      2460      2218      242      0      200   \n",
       "1           1       1      2428      2424        4      0      483   \n",
       "2           2       1      2441      2300      141      4      106   \n",
       "3           3       2      2280      2667     -387      0      464   \n",
       "4           4       1      2557      2682     -125      0       41   \n",
       "\n",
       "   Termination  TimeControl_enc  \n",
       "0            1                6  \n",
       "1            0                6  \n",
       "2            0               13  \n",
       "3            0                6  \n",
       "4            0                6  "
      ]
     },
     "execution_count": 109,
     "metadata": {},
     "output_type": "execute_result"
    }
   ],
   "source": [
    "df2 = pd.read_csv('../csv/d2_final.csv')\n",
    "df2.head()"
   ]
  },
  {
   "cell_type": "code",
   "execution_count": 110,
   "metadata": {},
   "outputs": [
    {
     "data": {
      "text/html": [
       "<div>\n",
       "<style scoped>\n",
       "    .dataframe tbody tr th:only-of-type {\n",
       "        vertical-align: middle;\n",
       "    }\n",
       "\n",
       "    .dataframe tbody tr th {\n",
       "        vertical-align: top;\n",
       "    }\n",
       "\n",
       "    .dataframe thead th {\n",
       "        text-align: right;\n",
       "    }\n",
       "</style>\n",
       "<table border=\"1\" class=\"dataframe\">\n",
       "  <thead>\n",
       "    <tr style=\"text-align: right;\">\n",
       "      <th></th>\n",
       "      <th>Result</th>\n",
       "      <th>EloDiff</th>\n",
       "      <th>Event_enc</th>\n",
       "      <th>ECO_enc</th>\n",
       "      <th>Termination_enc</th>\n",
       "      <th>TimeControl_enc</th>\n",
       "    </tr>\n",
       "  </thead>\n",
       "  <tbody>\n",
       "    <tr>\n",
       "      <th>0</th>\n",
       "      <td>1</td>\n",
       "      <td>242</td>\n",
       "      <td>0</td>\n",
       "      <td>200</td>\n",
       "      <td>1</td>\n",
       "      <td>6</td>\n",
       "    </tr>\n",
       "    <tr>\n",
       "      <th>1</th>\n",
       "      <td>1</td>\n",
       "      <td>4</td>\n",
       "      <td>0</td>\n",
       "      <td>483</td>\n",
       "      <td>0</td>\n",
       "      <td>6</td>\n",
       "    </tr>\n",
       "    <tr>\n",
       "      <th>2</th>\n",
       "      <td>1</td>\n",
       "      <td>141</td>\n",
       "      <td>4</td>\n",
       "      <td>106</td>\n",
       "      <td>0</td>\n",
       "      <td>13</td>\n",
       "    </tr>\n",
       "    <tr>\n",
       "      <th>3</th>\n",
       "      <td>2</td>\n",
       "      <td>-387</td>\n",
       "      <td>0</td>\n",
       "      <td>464</td>\n",
       "      <td>0</td>\n",
       "      <td>6</td>\n",
       "    </tr>\n",
       "    <tr>\n",
       "      <th>4</th>\n",
       "      <td>1</td>\n",
       "      <td>-125</td>\n",
       "      <td>0</td>\n",
       "      <td>41</td>\n",
       "      <td>0</td>\n",
       "      <td>6</td>\n",
       "    </tr>\n",
       "  </tbody>\n",
       "</table>\n",
       "</div>"
      ],
      "text/plain": [
       "   Result  EloDiff  Event_enc  ECO_enc  Termination_enc  TimeControl_enc\n",
       "0       1      242          0      200                1                6\n",
       "1       1        4          0      483                0                6\n",
       "2       1      141          4      106                0               13\n",
       "3       2     -387          0      464                0                6\n",
       "4       1     -125          0       41                0                6"
      ]
     },
     "execution_count": 110,
     "metadata": {},
     "output_type": "execute_result"
    }
   ],
   "source": [
    "df2.drop(['Unnamed: 0','BlackElo','WhiteElo'], axis = 1, inplace = True)\n",
    "df2.rename(columns={'Event': 'Event_enc', 'Termination': 'Termination_enc'}, inplace = True)\n",
    "df2.head()"
   ]
  },
  {
   "cell_type": "code",
   "execution_count": 111,
   "metadata": {},
   "outputs": [
    {
     "name": "stdout",
     "output_type": "stream",
     "text": [
      "(98756, 6)\n"
     ]
    }
   ],
   "source": [
    "print(df2.shape)"
   ]
  },
  {
   "cell_type": "code",
   "execution_count": 112,
   "metadata": {},
   "outputs": [
    {
     "name": "stdout",
     "output_type": "stream",
     "text": [
      "(98756, 5)\n",
      "(98756,)\n"
     ]
    }
   ],
   "source": [
    "feature_names = ['Event_enc', 'ECO_enc', 'Termination_enc', 'TimeControl_enc','EloDiff']\n",
    "X2 = df2[feature_names].values\n",
    "y2 = df2['Result'].values\n",
    "print(X2.shape)\n",
    "print(y2.shape)"
   ]
  },
  {
   "cell_type": "code",
   "execution_count": 113,
   "metadata": {},
   "outputs": [
    {
     "name": "stdout",
     "output_type": "stream",
     "text": [
      "37.40937259508283\n",
      "              precision    recall  f1-score   support\n",
      "\n",
      "           1    0.52574   0.39379   0.45030     47170\n",
      "           2    0.48388   0.33872   0.39849     42549\n",
      "           3    0.11762   0.43787   0.18544      9037\n",
      "\n",
      "    accuracy                        0.37409     98756\n",
      "   macro avg    0.37575   0.39012   0.34474     98756\n",
      "weighted avg    0.47036   0.37409   0.40374     98756\n",
      "\n"
     ]
    },
    {
     "data": {
      "text/plain": [
       "[(array([  0, 200,   1,   6, 242]), 3.4770650146641784),\n",
       " (array([  0, 483,   0,   6,   4]), 30.35480349206078),\n",
       " (array([  4, 106,   0,  13, 141]), 9.746563836700448),\n",
       " (array([   0,  464,    0,    6, -387]), 16.022833788447453),\n",
       " (array([   0,   41,    0,    6, -125]), 40.39873386812716)]"
      ]
     },
     "execution_count": 113,
     "metadata": {},
     "output_type": "execute_result"
    }
   ],
   "source": [
    "decision_tree_classifier = DecisionTreeClassifier()\n",
    "\n",
    "decision_tree_classifier.fit(X_train, y_train)\n",
    "\n",
    "y_pred = decision_tree_classifier.predict(X2)\n",
    "# print(decision_tree_classifier.score(y2, y_test))\n",
    "print(accuracy_score(y2, y_pred)*100)\n",
    "print(classification_report(y2, y_pred,digits = 5))\n",
    "\n",
    "list(zip(X2, decision_tree_classifier.feature_importances_*100))"
   ]
  },
  {
   "cell_type": "code",
   "execution_count": 114,
   "metadata": {},
   "outputs": [
    {
     "name": "stdout",
     "output_type": "stream",
     "text": [
      "29.638705496374907\n",
      "              precision    recall  f1-score   support\n",
      "\n",
      "           1    0.65285   0.24511   0.35641     47170\n",
      "           2    0.63447   0.23359   0.34146     42549\n",
      "           3    0.11883   0.85969   0.20879      9037\n",
      "\n",
      "    accuracy                        0.29639     98756\n",
      "   macro avg    0.46872   0.44613   0.30222     98756\n",
      "weighted avg    0.59606   0.29639   0.33646     98756\n",
      "\n"
     ]
    },
    {
     "data": {
      "text/plain": [
       "[(array([  0, 200,   1,   6, 242]), 0.031271540612088006),\n",
       " (array([  0, 483,   0,   6,   4]), 0.15648689833519305),\n",
       " (array([  4, 106,   0,  13, 141]), 62.69565964928594),\n",
       " (array([   0,  464,    0,    6, -387]), 0.21396986475418628),\n",
       " (array([   0,   41,    0,    6, -125]), 36.902612047012596)]"
      ]
     },
     "execution_count": 114,
     "metadata": {},
     "output_type": "execute_result"
    }
   ],
   "source": [
    "decision_tree_classifier = DecisionTreeClassifier(criterion='entropy', max_depth=6, max_features=5)\n",
    "\n",
    "decision_tree_classifier.fit(X_train, y_train)\n",
    "\n",
    "y_pred = decision_tree_classifier.predict(X2)\n",
    "# print(decision_tree_classifier.score(y2, y_test))\n",
    "print(accuracy_score(y2, y_pred)*100)\n",
    "print(classification_report(y2, y_pred,digits = 5))\n",
    "\n",
    "list(zip(X2, decision_tree_classifier.feature_importances_*100))"
   ]
  },
  {
   "cell_type": "code",
   "execution_count": 115,
   "metadata": {},
   "outputs": [
    {
     "name": "stdout",
     "output_type": "stream",
     "text": [
      "34.85762890356029\n",
      "              precision    recall  f1-score   support\n",
      "\n",
      "           1    0.54469   0.32711   0.40875     47170\n",
      "           2    0.50287   0.32894   0.39772     42549\n",
      "           3    0.11733   0.55306   0.19360      9037\n",
      "\n",
      "    accuracy                        0.34858     98756\n",
      "   macro avg    0.38830   0.40304   0.33336     98756\n",
      "weighted avg    0.48757   0.34858   0.38431     98756\n",
      "\n"
     ]
    },
    {
     "data": {
      "text/plain": [
       "[(array([  0, 200,   1,   6, 242]), 0.6134995390997221),\n",
       " (array([  0, 483,   0,   6,   4]), 33.40314130195305),\n",
       " (array([  4, 106,   0,  13, 141]), 8.607713524046003),\n",
       " (array([   0,  464,    0,    6, -387]), 6.722465451142663),\n",
       " (array([   0,   41,    0,    6, -125]), 50.653180183758565)]"
      ]
     },
     "execution_count": 115,
     "metadata": {},
     "output_type": "execute_result"
    }
   ],
   "source": [
    "rf_classifier = RandomForestClassifier()\n",
    "rf_classifier.fit(X_train, y_train)\n",
    "\n",
    "y_pred = rf_classifier.predict(X2)\n",
    "print(accuracy_score(y2, y_pred)*100)\n",
    "print(classification_report(y2, y_pred,digits = 5))\n",
    "\n",
    "list(zip(X2, rf_classifier.feature_importances_*100))"
   ]
  },
  {
   "cell_type": "code",
   "execution_count": 116,
   "metadata": {},
   "outputs": [
    {
     "name": "stdout",
     "output_type": "stream",
     "text": [
      "25.780712058001537\n",
      "              precision    recall  f1-score   support\n",
      "\n",
      "           1    0.64985   0.18599   0.28920     47170\n",
      "           2    0.62187   0.19338   0.29502     42549\n",
      "           3    0.11745   0.93604   0.20870      9037\n",
      "\n",
      "    accuracy                        0.25781     98756\n",
      "   macro avg    0.46306   0.43847   0.26431     98756\n",
      "weighted avg    0.58908   0.25781   0.28434     98756\n",
      "\n"
     ]
    },
    {
     "data": {
      "text/plain": [
       "[(array([  0, 200,   1,   6, 242]), 0.7279123324177673),\n",
       " (array([  0, 483,   0,   6,   4]), 0.5748935635959024),\n",
       " (array([  4, 106,   0,  13, 141]), 54.647962936537375),\n",
       " (array([   0,  464,    0,    6, -387]), 2.8025089355974133),\n",
       " (array([   0,   41,    0,    6, -125]), 41.24672223185154)]"
      ]
     },
     "execution_count": 116,
     "metadata": {},
     "output_type": "execute_result"
    }
   ],
   "source": [
    "rf_classifier = RandomForestClassifier(n_estimators=100, max_depth=6, min_samples_leaf=8, min_samples_split=15, n_jobs=-1, bootstrap=True)\n",
    "rf_classifier.fit(X_train, y_train)\n",
    "\n",
    "y_pred = rf_classifier.predict(X2)\n",
    "print(accuracy_score(y2, y_pred)*100)\n",
    "print(classification_report(y2, y_pred,digits = 5))\n",
    "\n",
    "list(zip(X2, rf_classifier.feature_importances_*100))"
   ]
  },
  {
   "cell_type": "markdown",
   "metadata": {},
   "source": [
    "# DS2"
   ]
  },
  {
   "cell_type": "code",
   "execution_count": 117,
   "metadata": {},
   "outputs": [
    {
     "data": {
      "text/html": [
       "<div>\n",
       "<style scoped>\n",
       "    .dataframe tbody tr th:only-of-type {\n",
       "        vertical-align: middle;\n",
       "    }\n",
       "\n",
       "    .dataframe tbody tr th {\n",
       "        vertical-align: top;\n",
       "    }\n",
       "\n",
       "    .dataframe thead th {\n",
       "        text-align: right;\n",
       "    }\n",
       "</style>\n",
       "<table border=\"1\" class=\"dataframe\">\n",
       "  <thead>\n",
       "    <tr style=\"text-align: right;\">\n",
       "      <th></th>\n",
       "      <th>Result</th>\n",
       "      <th>WhiteElo</th>\n",
       "      <th>BlackElo</th>\n",
       "      <th>EloDiff</th>\n",
       "      <th>Event</th>\n",
       "      <th>ECO_enc</th>\n",
       "      <th>Termination</th>\n",
       "      <th>TimeControl_enc</th>\n",
       "    </tr>\n",
       "  </thead>\n",
       "  <tbody>\n",
       "    <tr>\n",
       "      <th>0</th>\n",
       "      <td>1</td>\n",
       "      <td>2669</td>\n",
       "      <td>2625</td>\n",
       "      <td>44</td>\n",
       "      <td>0</td>\n",
       "      <td>101</td>\n",
       "      <td>0</td>\n",
       "      <td>6</td>\n",
       "    </tr>\n",
       "    <tr>\n",
       "      <th>1</th>\n",
       "      <td>1</td>\n",
       "      <td>2516</td>\n",
       "      <td>2337</td>\n",
       "      <td>179</td>\n",
       "      <td>0</td>\n",
       "      <td>120</td>\n",
       "      <td>1</td>\n",
       "      <td>6</td>\n",
       "    </tr>\n",
       "    <tr>\n",
       "      <th>2</th>\n",
       "      <td>1</td>\n",
       "      <td>2468</td>\n",
       "      <td>2435</td>\n",
       "      <td>33</td>\n",
       "      <td>0</td>\n",
       "      <td>106</td>\n",
       "      <td>0</td>\n",
       "      <td>6</td>\n",
       "    </tr>\n",
       "    <tr>\n",
       "      <th>3</th>\n",
       "      <td>1</td>\n",
       "      <td>2404</td>\n",
       "      <td>2337</td>\n",
       "      <td>67</td>\n",
       "      <td>0</td>\n",
       "      <td>10</td>\n",
       "      <td>0</td>\n",
       "      <td>6</td>\n",
       "    </tr>\n",
       "    <tr>\n",
       "      <th>4</th>\n",
       "      <td>1</td>\n",
       "      <td>2295</td>\n",
       "      <td>2438</td>\n",
       "      <td>-143</td>\n",
       "      <td>0</td>\n",
       "      <td>492</td>\n",
       "      <td>0</td>\n",
       "      <td>6</td>\n",
       "    </tr>\n",
       "  </tbody>\n",
       "</table>\n",
       "</div>"
      ],
      "text/plain": [
       "   Result  WhiteElo  BlackElo  EloDiff  Event  ECO_enc  Termination  \\\n",
       "0       1      2669      2625       44      0      101            0   \n",
       "1       1      2516      2337      179      0      120            1   \n",
       "2       1      2468      2435       33      0      106            0   \n",
       "3       1      2404      2337       67      0       10            0   \n",
       "4       1      2295      2438     -143      0      492            0   \n",
       "\n",
       "   TimeControl_enc  \n",
       "0                6  \n",
       "1                6  \n",
       "2                6  \n",
       "3                6  \n",
       "4                6  "
      ]
     },
     "execution_count": 117,
     "metadata": {},
     "output_type": "execute_result"
    }
   ],
   "source": [
    "df2_sample = pd.read_csv('../csv/df2_sample.csv')\n",
    "df2_sample.head()"
   ]
  },
  {
   "cell_type": "code",
   "execution_count": 118,
   "metadata": {},
   "outputs": [
    {
     "data": {
      "text/html": [
       "<div>\n",
       "<style scoped>\n",
       "    .dataframe tbody tr th:only-of-type {\n",
       "        vertical-align: middle;\n",
       "    }\n",
       "\n",
       "    .dataframe tbody tr th {\n",
       "        vertical-align: top;\n",
       "    }\n",
       "\n",
       "    .dataframe thead th {\n",
       "        text-align: right;\n",
       "    }\n",
       "</style>\n",
       "<table border=\"1\" class=\"dataframe\">\n",
       "  <thead>\n",
       "    <tr style=\"text-align: right;\">\n",
       "      <th></th>\n",
       "      <th>Result</th>\n",
       "      <th>EloDiff</th>\n",
       "      <th>Event_enc</th>\n",
       "      <th>ECO_enc</th>\n",
       "      <th>Termination_enc</th>\n",
       "      <th>TimeControl_enc</th>\n",
       "    </tr>\n",
       "  </thead>\n",
       "  <tbody>\n",
       "    <tr>\n",
       "      <th>0</th>\n",
       "      <td>1</td>\n",
       "      <td>44</td>\n",
       "      <td>0</td>\n",
       "      <td>101</td>\n",
       "      <td>0</td>\n",
       "      <td>6</td>\n",
       "    </tr>\n",
       "    <tr>\n",
       "      <th>1</th>\n",
       "      <td>1</td>\n",
       "      <td>179</td>\n",
       "      <td>0</td>\n",
       "      <td>120</td>\n",
       "      <td>1</td>\n",
       "      <td>6</td>\n",
       "    </tr>\n",
       "    <tr>\n",
       "      <th>2</th>\n",
       "      <td>1</td>\n",
       "      <td>33</td>\n",
       "      <td>0</td>\n",
       "      <td>106</td>\n",
       "      <td>0</td>\n",
       "      <td>6</td>\n",
       "    </tr>\n",
       "    <tr>\n",
       "      <th>3</th>\n",
       "      <td>1</td>\n",
       "      <td>67</td>\n",
       "      <td>0</td>\n",
       "      <td>10</td>\n",
       "      <td>0</td>\n",
       "      <td>6</td>\n",
       "    </tr>\n",
       "    <tr>\n",
       "      <th>4</th>\n",
       "      <td>1</td>\n",
       "      <td>-143</td>\n",
       "      <td>0</td>\n",
       "      <td>492</td>\n",
       "      <td>0</td>\n",
       "      <td>6</td>\n",
       "    </tr>\n",
       "  </tbody>\n",
       "</table>\n",
       "</div>"
      ],
      "text/plain": [
       "   Result  EloDiff  Event_enc  ECO_enc  Termination_enc  TimeControl_enc\n",
       "0       1       44          0      101                0                6\n",
       "1       1      179          0      120                1                6\n",
       "2       1       33          0      106                0                6\n",
       "3       1       67          0       10                0                6\n",
       "4       1     -143          0      492                0                6"
      ]
     },
     "execution_count": 118,
     "metadata": {},
     "output_type": "execute_result"
    }
   ],
   "source": [
    "df2_sample.drop(['BlackElo', 'WhiteElo'], axis = 1, inplace = True)\n",
    "df2_sample.rename(columns={'Event': 'Event_enc', 'Termination': 'Termination_enc'}, inplace = True)\n",
    "df2_sample.head()"
   ]
  },
  {
   "cell_type": "code",
   "execution_count": 119,
   "metadata": {},
   "outputs": [
    {
     "name": "stdout",
     "output_type": "stream",
     "text": [
      "(27111, 6)\n"
     ]
    }
   ],
   "source": [
    "print(df2_sample.shape)"
   ]
  },
  {
   "cell_type": "code",
   "execution_count": 120,
   "metadata": {},
   "outputs": [
    {
     "name": "stdout",
     "output_type": "stream",
     "text": [
      "(27111, 5)\n",
      "(27111,)\n"
     ]
    }
   ],
   "source": [
    "feature_names = ['Event_enc', 'ECO_enc', 'Termination_enc', 'TimeControl_enc','EloDiff']\n",
    "X2 = df2_sample[feature_names].values\n",
    "y2 = df2_sample['Result'].values\n",
    "print(X2.shape)\n",
    "print(y2.shape)"
   ]
  },
  {
   "cell_type": "code",
   "execution_count": 121,
   "metadata": {},
   "outputs": [
    {
     "name": "stdout",
     "output_type": "stream",
     "text": [
      "39.18704584854856\n",
      "              precision    recall  f1-score   support\n",
      "\n",
      "           1    0.38383   0.39759   0.39059      9037\n",
      "           2    0.39227   0.34126   0.36499      9037\n",
      "           3    0.39917   0.43676   0.41712      9037\n",
      "\n",
      "    accuracy                        0.39187     27111\n",
      "   macro avg    0.39175   0.39187   0.39090     27111\n",
      "weighted avg    0.39175   0.39187   0.39090     27111\n",
      "\n"
     ]
    },
    {
     "data": {
      "text/plain": [
       "[(array([  0, 101,   0,   6,  44]), 3.4709660661798756),\n",
       " (array([  0, 120,   1,   6, 179]), 30.37437204393821),\n",
       " (array([  0, 106,   0,   6,  33]), 9.74656383670042),\n",
       " (array([ 0, 10,  0,  6, 67]), 16.021918928378),\n",
       " (array([   0,  492,    0,    6, -143]), 40.3861791248035)]"
      ]
     },
     "execution_count": 121,
     "metadata": {},
     "output_type": "execute_result"
    }
   ],
   "source": [
    "decision_tree_classifier = DecisionTreeClassifier()\n",
    "\n",
    "decision_tree_classifier.fit(X_train, y_train)\n",
    "\n",
    "y_pred = decision_tree_classifier.predict(X2)\n",
    "# print(decision_tree_classifier.score(y2, y_test))\n",
    "print(accuracy_score(y2, y_pred)*100)\n",
    "print(classification_report(y2, y_pred,digits = 5))\n",
    "\n",
    "list(zip(X2, decision_tree_classifier.feature_importances_*100))"
   ]
  },
  {
   "cell_type": "code",
   "execution_count": 122,
   "metadata": {},
   "outputs": [
    {
     "name": "stdout",
     "output_type": "stream",
     "text": [
      "44.43214931208735\n",
      "              precision    recall  f1-score   support\n",
      "\n",
      "           1    0.54496   0.24145   0.33464      9037\n",
      "           2    0.56622   0.23182   0.32896      9037\n",
      "           3    0.40032   0.85969   0.54627      9037\n",
      "\n",
      "    accuracy                        0.44432     27111\n",
      "   macro avg    0.50383   0.44432   0.40329     27111\n",
      "weighted avg    0.50383   0.44432   0.40329     27111\n",
      "\n"
     ]
    },
    {
     "data": {
      "text/plain": [
       "[(array([  0, 101,   0,   6,  44]), 0.031271540612088006),\n",
       " (array([  0, 120,   1,   6, 179]), 0.15648689833519305),\n",
       " (array([  0, 106,   0,   6,  33]), 62.69565964928594),\n",
       " (array([ 0, 10,  0,  6, 67]), 0.21396986475418628),\n",
       " (array([   0,  492,    0,    6, -143]), 36.902612047012596)]"
      ]
     },
     "execution_count": 122,
     "metadata": {},
     "output_type": "execute_result"
    }
   ],
   "source": [
    "decision_tree_classifier = DecisionTreeClassifier(criterion='entropy', max_depth=6, max_features=5)\n",
    "decision_tree_classifier.fit(X_train, y_train)\n",
    "y_pred = decision_tree_classifier.predict(X2)\n",
    "# print(decision_tree_classifier.score(y2, y_test))\n",
    "print(accuracy_score(y2, y_pred)*100)\n",
    "print(classification_report(y2, y_pred,digits = 5))\n",
    "\n",
    "list(zip(X2, decision_tree_classifier.feature_importances_*100))"
   ]
  },
  {
   "cell_type": "code",
   "execution_count": 123,
   "metadata": {},
   "outputs": [
    {
     "name": "stdout",
     "output_type": "stream",
     "text": [
      "40.61451071520785\n",
      "              precision    recall  f1-score   support\n",
      "\n",
      "           1    0.40644   0.32832   0.36322      9037\n",
      "           2    0.41426   0.33230   0.36878      9037\n",
      "           3    0.40129   0.55782   0.46678      9037\n",
      "\n",
      "    accuracy                        0.40615     27111\n",
      "   macro avg    0.40733   0.40615   0.39960     27111\n",
      "weighted avg    0.40733   0.40615   0.39960     27111\n",
      "\n"
     ]
    },
    {
     "data": {
      "text/plain": [
       "[(array([  0, 101,   0,   6,  44]), 0.5922330533908106),\n",
       " (array([  0, 120,   1,   6, 179]), 34.02854511594214),\n",
       " (array([  0, 106,   0,   6,  33]), 8.57256136603211),\n",
       " (array([ 0, 10,  0,  6, 67]), 6.407619836798287),\n",
       " (array([   0,  492,    0,    6, -143]), 50.39904062783667)]"
      ]
     },
     "execution_count": 123,
     "metadata": {},
     "output_type": "execute_result"
    }
   ],
   "source": [
    "rf_classifier = RandomForestClassifier()\n",
    "rf_classifier.fit(X_train, y_train)\n",
    "\n",
    "y_pred = rf_classifier.predict(X2)\n",
    "print(accuracy_score(y2, y_pred)*100)\n",
    "print(classification_report(y2, y_pred,digits = 5))\n",
    "\n",
    "list(zip(X2, rf_classifier.feature_importances_*100))"
   ]
  },
  {
   "cell_type": "code",
   "execution_count": 124,
   "metadata": {},
   "outputs": [
    {
     "name": "stdout",
     "output_type": "stream",
     "text": [
      "43.690752830954224\n",
      "              precision    recall  f1-score   support\n",
      "\n",
      "           1    0.56973   0.18037   0.27400      9037\n",
      "           2    0.58755   0.19531   0.29317      9037\n",
      "           3    0.39772   0.93504   0.55807      9037\n",
      "\n",
      "    accuracy                        0.43691     27111\n",
      "   macro avg    0.51833   0.43691   0.37508     27111\n",
      "weighted avg    0.51833   0.43691   0.37508     27111\n",
      "\n"
     ]
    },
    {
     "data": {
      "text/plain": [
       "[(array([  0, 101,   0,   6,  44]), 0.7892352664859609),\n",
       " (array([  0, 120,   1,   6, 179]), 0.6161250332754953),\n",
       " (array([  0, 106,   0,   6,  33]), 54.28283934435403),\n",
       " (array([ 0, 10,  0,  6, 67]), 2.6173534060912984),\n",
       " (array([   0,  492,    0,    6, -143]), 41.694446949793225)]"
      ]
     },
     "execution_count": 124,
     "metadata": {},
     "output_type": "execute_result"
    }
   ],
   "source": [
    "rf_classifier = RandomForestClassifier(n_estimators=100, max_depth=6, min_samples_leaf=8, min_samples_split=15, n_jobs=-1, bootstrap=True)\n",
    "rf_classifier.fit(X_train, y_train)\n",
    "\n",
    "y_pred = rf_classifier.predict(X2)\n",
    "print(accuracy_score(y2, y_pred)*100)\n",
    "print(classification_report(y2, y_pred,digits = 5))\n",
    "\n",
    "list(zip(X2, rf_classifier.feature_importances_*100))"
   ]
  }
 ],
 "metadata": {
  "interpreter": {
   "hash": "32ee103e807441b8b43ef544df75b395a3ebfbafac956e5e2fedbb31b18d2dc5"
  },
  "kernelspec": {
   "display_name": "Python 3.9.7 64-bit ('kamil': conda)",
   "language": "python",
   "name": "python3"
  },
  "language_info": {
   "codemirror_mode": {
    "name": "ipython",
    "version": 3
   },
   "file_extension": ".py",
   "mimetype": "text/x-python",
   "name": "python",
   "nbconvert_exporter": "python",
   "pygments_lexer": "ipython3",
   "version": "3.9.7"
  },
  "orig_nbformat": 4
 },
 "nbformat": 4,
 "nbformat_minor": 2
}
