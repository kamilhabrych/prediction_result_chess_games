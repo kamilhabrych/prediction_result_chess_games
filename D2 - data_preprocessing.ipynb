{
 "cells": [
  {
   "cell_type": "code",
   "execution_count": 1,
   "metadata": {},
   "outputs": [],
   "source": [
    "import pandas as pd\n",
    "import seaborn as sns\n",
    "import numpy as np\n",
    "import matplotlib.pyplot as plt\n",
    "from sklearn.preprocessing import LabelEncoder"
   ]
  },
  {
   "cell_type": "markdown",
   "metadata": {},
   "source": [
    "Read CSV file"
   ]
  },
  {
   "cell_type": "code",
   "execution_count": 2,
   "metadata": {},
   "outputs": [],
   "source": [
    "df2 = pd.read_csv('../csv/d2.csv')"
   ]
  },
  {
   "cell_type": "markdown",
   "metadata": {},
   "source": [
    "Print first 5 rows"
   ]
  },
  {
   "cell_type": "code",
   "execution_count": 3,
   "metadata": {},
   "outputs": [
    {
     "data": {
      "text/html": [
       "<div>\n",
       "<style scoped>\n",
       "    .dataframe tbody tr th:only-of-type {\n",
       "        vertical-align: middle;\n",
       "    }\n",
       "\n",
       "    .dataframe tbody tr th {\n",
       "        vertical-align: top;\n",
       "    }\n",
       "\n",
       "    .dataframe thead th {\n",
       "        text-align: right;\n",
       "    }\n",
       "</style>\n",
       "<table border=\"1\" class=\"dataframe\">\n",
       "  <thead>\n",
       "    <tr style=\"text-align: right;\">\n",
       "      <th></th>\n",
       "      <th>Unnamed: 0</th>\n",
       "      <th>Event</th>\n",
       "      <th>Date</th>\n",
       "      <th>Round</th>\n",
       "      <th>White</th>\n",
       "      <th>Black</th>\n",
       "      <th>Result</th>\n",
       "      <th>BlackElo</th>\n",
       "      <th>ECO</th>\n",
       "      <th>Opening</th>\n",
       "      <th>Termination</th>\n",
       "      <th>TimeControl</th>\n",
       "      <th>WhiteElo</th>\n",
       "      <th>WhiteRatingDiff</th>\n",
       "    </tr>\n",
       "  </thead>\n",
       "  <tbody>\n",
       "    <tr>\n",
       "      <th>0</th>\n",
       "      <td>0</td>\n",
       "      <td>Rated Blitz tournament https://lichess.org/tou...</td>\n",
       "      <td>2020.09.01</td>\n",
       "      <td>-</td>\n",
       "      <td>AttackSparrow</td>\n",
       "      <td>danicuva</td>\n",
       "      <td>1-0</td>\n",
       "      <td>2218</td>\n",
       "      <td>C00</td>\n",
       "      <td>French Defense: Schlechter Variation</td>\n",
       "      <td>Time forfeit</td>\n",
       "      <td>180+0</td>\n",
       "      <td>2460</td>\n",
       "      <td>2</td>\n",
       "    </tr>\n",
       "    <tr>\n",
       "      <th>1</th>\n",
       "      <td>1</td>\n",
       "      <td>Rated Blitz game</td>\n",
       "      <td>2020.09.01</td>\n",
       "      <td>-</td>\n",
       "      <td>onthewaygm</td>\n",
       "      <td>starkspieler</td>\n",
       "      <td>1-0</td>\n",
       "      <td>2424</td>\n",
       "      <td>E90</td>\n",
       "      <td>King's Indian Defense: Normal Variation, Rare ...</td>\n",
       "      <td>Normal</td>\n",
       "      <td>180+0</td>\n",
       "      <td>2428</td>\n",
       "      <td>6</td>\n",
       "    </tr>\n",
       "    <tr>\n",
       "      <th>2</th>\n",
       "      <td>2</td>\n",
       "      <td>Rated Rapid tournament https://lichess.org/tou...</td>\n",
       "      <td>2020.09.01</td>\n",
       "      <td>-</td>\n",
       "      <td>OjaiJoao</td>\n",
       "      <td>FitzwilliamDarcy</td>\n",
       "      <td>1-0</td>\n",
       "      <td>2300</td>\n",
       "      <td>B06</td>\n",
       "      <td>Modern Defense: Standard Defense</td>\n",
       "      <td>Normal</td>\n",
       "      <td>600+5</td>\n",
       "      <td>2441</td>\n",
       "      <td>5</td>\n",
       "    </tr>\n",
       "    <tr>\n",
       "      <th>3</th>\n",
       "      <td>3</td>\n",
       "      <td>Rated Blitz tournament https://lichess.org/tou...</td>\n",
       "      <td>2020.09.01</td>\n",
       "      <td>-</td>\n",
       "      <td>WenceslaoRodrigo</td>\n",
       "      <td>zonrobla</td>\n",
       "      <td>0-1</td>\n",
       "      <td>2667</td>\n",
       "      <td>E71</td>\n",
       "      <td>King's Indian Defense: Makogonov Variation</td>\n",
       "      <td>Normal</td>\n",
       "      <td>180+1</td>\n",
       "      <td>2280</td>\n",
       "      <td>-2</td>\n",
       "    </tr>\n",
       "    <tr>\n",
       "      <th>4</th>\n",
       "      <td>4</td>\n",
       "      <td>Rated Blitz game</td>\n",
       "      <td>2020.09.01</td>\n",
       "      <td>-</td>\n",
       "      <td>HoldenHc</td>\n",
       "      <td>gg-gm-gmg</td>\n",
       "      <td>1-0</td>\n",
       "      <td>2682</td>\n",
       "      <td>A41</td>\n",
       "      <td>Queen's Pawn</td>\n",
       "      <td>Normal</td>\n",
       "      <td>180+0</td>\n",
       "      <td>2557</td>\n",
       "      <td>8</td>\n",
       "    </tr>\n",
       "  </tbody>\n",
       "</table>\n",
       "</div>"
      ],
      "text/plain": [
       "   Unnamed: 0                                              Event        Date  \\\n",
       "0           0  Rated Blitz tournament https://lichess.org/tou...  2020.09.01   \n",
       "1           1                                   Rated Blitz game  2020.09.01   \n",
       "2           2  Rated Rapid tournament https://lichess.org/tou...  2020.09.01   \n",
       "3           3  Rated Blitz tournament https://lichess.org/tou...  2020.09.01   \n",
       "4           4                                   Rated Blitz game  2020.09.01   \n",
       "\n",
       "  Round             White             Black Result  BlackElo  ECO  \\\n",
       "0     -     AttackSparrow          danicuva    1-0      2218  C00   \n",
       "1     -        onthewaygm      starkspieler    1-0      2424  E90   \n",
       "2     -          OjaiJoao  FitzwilliamDarcy    1-0      2300  B06   \n",
       "3     -  WenceslaoRodrigo          zonrobla    0-1      2667  E71   \n",
       "4     -          HoldenHc         gg-gm-gmg    1-0      2682  A41   \n",
       "\n",
       "                                             Opening   Termination  \\\n",
       "0               French Defense: Schlechter Variation  Time forfeit   \n",
       "1  King's Indian Defense: Normal Variation, Rare ...        Normal   \n",
       "2                   Modern Defense: Standard Defense        Normal   \n",
       "3         King's Indian Defense: Makogonov Variation        Normal   \n",
       "4                                       Queen's Pawn        Normal   \n",
       "\n",
       "  TimeControl  WhiteElo  WhiteRatingDiff  \n",
       "0       180+0      2460                2  \n",
       "1       180+0      2428                6  \n",
       "2       600+5      2441                5  \n",
       "3       180+1      2280               -2  \n",
       "4       180+0      2557                8  "
      ]
     },
     "execution_count": 3,
     "metadata": {},
     "output_type": "execute_result"
    }
   ],
   "source": [
    "df2.head()"
   ]
  },
  {
   "cell_type": "markdown",
   "metadata": {},
   "source": [
    "Print shape of dataframe (columns, rows)"
   ]
  },
  {
   "cell_type": "code",
   "execution_count": 4,
   "metadata": {},
   "outputs": [
    {
     "data": {
      "text/plain": [
       "(99913, 14)"
      ]
     },
     "execution_count": 4,
     "metadata": {},
     "output_type": "execute_result"
    }
   ],
   "source": [
    "df2.shape"
   ]
  },
  {
   "cell_type": "markdown",
   "metadata": {},
   "source": [
    "Drop useless columns"
   ]
  },
  {
   "cell_type": "code",
   "execution_count": 5,
   "metadata": {},
   "outputs": [],
   "source": [
    "df2.drop(['Unnamed: 0','Date', 'Round', 'Opening', 'WhiteRatingDiff', 'White', 'Black'], axis = 1, inplace = True)"
   ]
  },
  {
   "cell_type": "markdown",
   "metadata": {},
   "source": [
    "Print 5 new rows"
   ]
  },
  {
   "cell_type": "code",
   "execution_count": 6,
   "metadata": {},
   "outputs": [
    {
     "data": {
      "text/html": [
       "<div>\n",
       "<style scoped>\n",
       "    .dataframe tbody tr th:only-of-type {\n",
       "        vertical-align: middle;\n",
       "    }\n",
       "\n",
       "    .dataframe tbody tr th {\n",
       "        vertical-align: top;\n",
       "    }\n",
       "\n",
       "    .dataframe thead th {\n",
       "        text-align: right;\n",
       "    }\n",
       "</style>\n",
       "<table border=\"1\" class=\"dataframe\">\n",
       "  <thead>\n",
       "    <tr style=\"text-align: right;\">\n",
       "      <th></th>\n",
       "      <th>Event</th>\n",
       "      <th>Result</th>\n",
       "      <th>BlackElo</th>\n",
       "      <th>ECO</th>\n",
       "      <th>Termination</th>\n",
       "      <th>TimeControl</th>\n",
       "      <th>WhiteElo</th>\n",
       "    </tr>\n",
       "  </thead>\n",
       "  <tbody>\n",
       "    <tr>\n",
       "      <th>0</th>\n",
       "      <td>Rated Blitz tournament https://lichess.org/tou...</td>\n",
       "      <td>1-0</td>\n",
       "      <td>2218</td>\n",
       "      <td>C00</td>\n",
       "      <td>Time forfeit</td>\n",
       "      <td>180+0</td>\n",
       "      <td>2460</td>\n",
       "    </tr>\n",
       "    <tr>\n",
       "      <th>1</th>\n",
       "      <td>Rated Blitz game</td>\n",
       "      <td>1-0</td>\n",
       "      <td>2424</td>\n",
       "      <td>E90</td>\n",
       "      <td>Normal</td>\n",
       "      <td>180+0</td>\n",
       "      <td>2428</td>\n",
       "    </tr>\n",
       "    <tr>\n",
       "      <th>2</th>\n",
       "      <td>Rated Rapid tournament https://lichess.org/tou...</td>\n",
       "      <td>1-0</td>\n",
       "      <td>2300</td>\n",
       "      <td>B06</td>\n",
       "      <td>Normal</td>\n",
       "      <td>600+5</td>\n",
       "      <td>2441</td>\n",
       "    </tr>\n",
       "    <tr>\n",
       "      <th>3</th>\n",
       "      <td>Rated Blitz tournament https://lichess.org/tou...</td>\n",
       "      <td>0-1</td>\n",
       "      <td>2667</td>\n",
       "      <td>E71</td>\n",
       "      <td>Normal</td>\n",
       "      <td>180+1</td>\n",
       "      <td>2280</td>\n",
       "    </tr>\n",
       "    <tr>\n",
       "      <th>4</th>\n",
       "      <td>Rated Blitz game</td>\n",
       "      <td>1-0</td>\n",
       "      <td>2682</td>\n",
       "      <td>A41</td>\n",
       "      <td>Normal</td>\n",
       "      <td>180+0</td>\n",
       "      <td>2557</td>\n",
       "    </tr>\n",
       "  </tbody>\n",
       "</table>\n",
       "</div>"
      ],
      "text/plain": [
       "                                               Event Result  BlackElo  ECO  \\\n",
       "0  Rated Blitz tournament https://lichess.org/tou...    1-0      2218  C00   \n",
       "1                                   Rated Blitz game    1-0      2424  E90   \n",
       "2  Rated Rapid tournament https://lichess.org/tou...    1-0      2300  B06   \n",
       "3  Rated Blitz tournament https://lichess.org/tou...    0-1      2667  E71   \n",
       "4                                   Rated Blitz game    1-0      2682  A41   \n",
       "\n",
       "    Termination TimeControl  WhiteElo  \n",
       "0  Time forfeit       180+0      2460  \n",
       "1        Normal       180+0      2428  \n",
       "2        Normal       600+5      2441  \n",
       "3        Normal       180+1      2280  \n",
       "4        Normal       180+0      2557  "
      ]
     },
     "execution_count": 6,
     "metadata": {},
     "output_type": "execute_result"
    }
   ],
   "source": [
    "df2.head()"
   ]
  },
  {
   "cell_type": "markdown",
   "metadata": {},
   "source": [
    "Checking for null values"
   ]
  },
  {
   "cell_type": "code",
   "execution_count": 7,
   "metadata": {},
   "outputs": [
    {
     "data": {
      "text/plain": [
       "Event          0\n",
       "Result         0\n",
       "BlackElo       0\n",
       "ECO            0\n",
       "Termination    0\n",
       "TimeControl    0\n",
       "WhiteElo       0\n",
       "dtype: int64"
      ]
     },
     "execution_count": 7,
     "metadata": {},
     "output_type": "execute_result"
    }
   ],
   "source": [
    "df2.isnull().sum()"
   ]
  },
  {
   "cell_type": "markdown",
   "metadata": {},
   "source": [
    "Drop NaN values"
   ]
  },
  {
   "cell_type": "code",
   "execution_count": 8,
   "metadata": {},
   "outputs": [],
   "source": [
    "df2.dropna(inplace=True)"
   ]
  },
  {
   "cell_type": "markdown",
   "metadata": {},
   "source": [
    "Change type of column *Event* into string"
   ]
  },
  {
   "cell_type": "code",
   "execution_count": 9,
   "metadata": {},
   "outputs": [],
   "source": [
    "df2['Event'] = df2.Event.astype('string')"
   ]
  },
  {
   "cell_type": "markdown",
   "metadata": {},
   "source": [
    "Print count of unique value in column *Event*"
   ]
  },
  {
   "cell_type": "code",
   "execution_count": 10,
   "metadata": {},
   "outputs": [
    {
     "data": {
      "text/plain": [
       "655"
      ]
     },
     "execution_count": 10,
     "metadata": {},
     "output_type": "execute_result"
    }
   ],
   "source": [
    "df2.Event.nunique()"
   ]
  },
  {
   "cell_type": "markdown",
   "metadata": {},
   "source": [
    "Cut strings in column *Event*. This cell cut strings from 6 index of string"
   ]
  },
  {
   "cell_type": "code",
   "execution_count": 11,
   "metadata": {},
   "outputs": [],
   "source": [
    "df2['Event'] = df2['Event'].map(lambda x: str(x)[6:])"
   ]
  },
  {
   "cell_type": "markdown",
   "metadata": {},
   "source": [
    "Split string when 'tournament' appears and left values (string) before this word"
   ]
  },
  {
   "cell_type": "code",
   "execution_count": 12,
   "metadata": {},
   "outputs": [],
   "source": [
    "df2['Event'] = df2['Event'].map(lambda x: x.split('tournament',1)[0])"
   ]
  },
  {
   "cell_type": "markdown",
   "metadata": {},
   "source": [
    "Count values of column *Event*"
   ]
  },
  {
   "cell_type": "code",
   "execution_count": 13,
   "metadata": {},
   "outputs": [
    {
     "data": {
      "text/plain": [
       "Blitz game        75010\n",
       "Blitz             23372\n",
       "Rapid game         1238\n",
       "Rapid               224\n",
       "Classical game       62\n",
       "Classical             7\n",
       "Name: Event, dtype: int64"
      ]
     },
     "execution_count": 13,
     "metadata": {},
     "output_type": "execute_result"
    }
   ],
   "source": [
    "df2.Event.value_counts()"
   ]
  },
  {
   "cell_type": "markdown",
   "metadata": {},
   "source": [
    "Merge similiar values into one"
   ]
  },
  {
   "cell_type": "code",
   "execution_count": 14,
   "metadata": {},
   "outputs": [],
   "source": [
    "df2['Event'] = df2['Event'].replace(['Classical game', 'Classical '], 'Classical')\n",
    "df2['Event'] = df2['Event'].replace(['Blitz game','Blitz '], 'Blitz')\n",
    "df2['Event'] = df2['Event'].replace(['Rapid game','Rapid '], 'Rapid')"
   ]
  },
  {
   "cell_type": "markdown",
   "metadata": {},
   "source": [
    "Replacing result values into numeric, because it will help in the future.\n",
    "\n",
    "1 - means White wins\n",
    "2 - means Black wins\n",
    "3 - means it's a draw"
   ]
  },
  {
   "cell_type": "code",
   "execution_count": 15,
   "metadata": {},
   "outputs": [],
   "source": [
    "df2['Result'] = df2['Result'].replace(['1-0'], 1)\n",
    "df2['Result'] = df2['Result'].replace(['0-1'], 2)\n",
    "df2['Result'] = df2['Result'].replace(['1/2-1/2'], 3)"
   ]
  },
  {
   "cell_type": "markdown",
   "metadata": {},
   "source": [
    "Create new dataframe and drop rows where termination were *time forfeit* and it was a draw."
   ]
  },
  {
   "cell_type": "code",
   "execution_count": 16,
   "metadata": {},
   "outputs": [],
   "source": [
    "df2 = df2.drop(df2[(df2['Termination'] == 'Time forfeit') & (df2['Result'] == 3)].index)"
   ]
  },
  {
   "cell_type": "markdown",
   "metadata": {},
   "source": [
    "Drop rows where termination were *rules infraction* or *abandoned* because I will focus only on games ended by checkmate or time forfeit"
   ]
  },
  {
   "cell_type": "code",
   "execution_count": 17,
   "metadata": {},
   "outputs": [],
   "source": [
    "df2 = df2[df2['Termination'] != \"Rules infraction\"]\n",
    "df2 = df2[df2['Termination'] != \"Abandoned\"]"
   ]
  },
  {
   "cell_type": "markdown",
   "metadata": {},
   "source": [
    "Split strings in *TimeControl* column. Only values before *+* will stay."
   ]
  },
  {
   "cell_type": "code",
   "execution_count": 18,
   "metadata": {},
   "outputs": [],
   "source": [
    "df2['TimeControl'] = df2['TimeControl'].str.split('+').str[0]"
   ]
  },
  {
   "cell_type": "code",
   "execution_count": 19,
   "metadata": {},
   "outputs": [],
   "source": [
    "df2['TimeControl'] = df2['TimeControl'].astype('int64')"
   ]
  },
  {
   "cell_type": "code",
   "execution_count": 20,
   "metadata": {},
   "outputs": [
    {
     "data": {
      "text/plain": [
       "(98770, 7)"
      ]
     },
     "execution_count": 20,
     "metadata": {},
     "output_type": "execute_result"
    }
   ],
   "source": [
    "df2.shape"
   ]
  },
  {
   "cell_type": "code",
   "execution_count": 21,
   "metadata": {},
   "outputs": [],
   "source": [
    "df_blitz = df2[df2['Event'] == 'Blitz']\n",
    "df_rapid = df2[df2['Event'] == 'Rapid']\n",
    "df_classical = df2[df2['Event'] == 'Classical']"
   ]
  },
  {
   "cell_type": "markdown",
   "metadata": {},
   "source": [
    "Create new column *EloDiff*. This column contain difference of Elo points between players. If value is lower than 0, it means that player who plays as Black had higher Elo."
   ]
  },
  {
   "cell_type": "code",
   "execution_count": 22,
   "metadata": {},
   "outputs": [
    {
     "data": {
      "text/html": [
       "<div>\n",
       "<style scoped>\n",
       "    .dataframe tbody tr th:only-of-type {\n",
       "        vertical-align: middle;\n",
       "    }\n",
       "\n",
       "    .dataframe tbody tr th {\n",
       "        vertical-align: top;\n",
       "    }\n",
       "\n",
       "    .dataframe thead th {\n",
       "        text-align: right;\n",
       "    }\n",
       "</style>\n",
       "<table border=\"1\" class=\"dataframe\">\n",
       "  <thead>\n",
       "    <tr style=\"text-align: right;\">\n",
       "      <th></th>\n",
       "      <th>Event</th>\n",
       "      <th>Result</th>\n",
       "      <th>BlackElo</th>\n",
       "      <th>ECO</th>\n",
       "      <th>Termination</th>\n",
       "      <th>TimeControl</th>\n",
       "      <th>WhiteElo</th>\n",
       "      <th>EloDiff</th>\n",
       "    </tr>\n",
       "  </thead>\n",
       "  <tbody>\n",
       "    <tr>\n",
       "      <th>0</th>\n",
       "      <td>Blitz</td>\n",
       "      <td>1</td>\n",
       "      <td>2218</td>\n",
       "      <td>C00</td>\n",
       "      <td>Time forfeit</td>\n",
       "      <td>180</td>\n",
       "      <td>2460</td>\n",
       "      <td>242</td>\n",
       "    </tr>\n",
       "    <tr>\n",
       "      <th>1</th>\n",
       "      <td>Blitz</td>\n",
       "      <td>1</td>\n",
       "      <td>2424</td>\n",
       "      <td>E90</td>\n",
       "      <td>Normal</td>\n",
       "      <td>180</td>\n",
       "      <td>2428</td>\n",
       "      <td>4</td>\n",
       "    </tr>\n",
       "    <tr>\n",
       "      <th>2</th>\n",
       "      <td>Rapid</td>\n",
       "      <td>1</td>\n",
       "      <td>2300</td>\n",
       "      <td>B06</td>\n",
       "      <td>Normal</td>\n",
       "      <td>600</td>\n",
       "      <td>2441</td>\n",
       "      <td>141</td>\n",
       "    </tr>\n",
       "    <tr>\n",
       "      <th>3</th>\n",
       "      <td>Blitz</td>\n",
       "      <td>2</td>\n",
       "      <td>2667</td>\n",
       "      <td>E71</td>\n",
       "      <td>Normal</td>\n",
       "      <td>180</td>\n",
       "      <td>2280</td>\n",
       "      <td>-387</td>\n",
       "    </tr>\n",
       "    <tr>\n",
       "      <th>4</th>\n",
       "      <td>Blitz</td>\n",
       "      <td>1</td>\n",
       "      <td>2682</td>\n",
       "      <td>A41</td>\n",
       "      <td>Normal</td>\n",
       "      <td>180</td>\n",
       "      <td>2557</td>\n",
       "      <td>-125</td>\n",
       "    </tr>\n",
       "  </tbody>\n",
       "</table>\n",
       "</div>"
      ],
      "text/plain": [
       "   Event  Result  BlackElo  ECO   Termination  TimeControl  WhiteElo  EloDiff\n",
       "0  Blitz       1      2218  C00  Time forfeit          180      2460      242\n",
       "1  Blitz       1      2424  E90        Normal          180      2428        4\n",
       "2  Rapid       1      2300  B06        Normal          600      2441      141\n",
       "3  Blitz       2      2667  E71        Normal          180      2280     -387\n",
       "4  Blitz       1      2682  A41        Normal          180      2557     -125"
      ]
     },
     "execution_count": 22,
     "metadata": {},
     "output_type": "execute_result"
    }
   ],
   "source": [
    "df2['EloDiff'] = df2['WhiteElo'] - df2['BlackElo']\n",
    "df2.head()"
   ]
  },
  {
   "cell_type": "code",
   "execution_count": 23,
   "metadata": {},
   "outputs": [],
   "source": [
    "df2_enc = df2"
   ]
  },
  {
   "cell_type": "markdown",
   "metadata": {},
   "source": [
    "I'm changing values into numeric"
   ]
  },
  {
   "cell_type": "code",
   "execution_count": 24,
   "metadata": {},
   "outputs": [],
   "source": [
    "df2_enc['Event'] = df2_enc['Event'].replace(['Blitz'], 0)\n",
    "df2_enc['Event'] = df2_enc['Event'].replace(['Classical'], 2)\n",
    "df2_enc['Event'] = df2_enc['Event'].replace(['Rapid'], 4)"
   ]
  },
  {
   "cell_type": "code",
   "execution_count": 25,
   "metadata": {},
   "outputs": [],
   "source": [
    "df2_enc['Termination'] = df2_enc['Termination'].replace(['Normal'], 0)\n",
    "df2_enc['Termination'] = df2_enc['Termination'].replace(['Time forfeit'], 1)"
   ]
  },
  {
   "cell_type": "code",
   "execution_count": 26,
   "metadata": {},
   "outputs": [],
   "source": [
    "df2_enc = df2_enc[df2_enc['ECO'] != '?']"
   ]
  },
  {
   "cell_type": "code",
   "execution_count": 27,
   "metadata": {},
   "outputs": [
    {
     "data": {
      "text/plain": [
       "490"
      ]
     },
     "execution_count": 27,
     "metadata": {},
     "output_type": "execute_result"
    }
   ],
   "source": [
    "df2_enc['ECO'].nunique()"
   ]
  },
  {
   "cell_type": "code",
   "execution_count": 28,
   "metadata": {},
   "outputs": [],
   "source": [
    "labelencoder = LabelEncoder()"
   ]
  },
  {
   "cell_type": "code",
   "execution_count": 29,
   "metadata": {},
   "outputs": [
    {
     "name": "stderr",
     "output_type": "stream",
     "text": [
      "/opt/homebrew/Caskroom/miniforge/base/envs/kamil/lib/python3.9/site-packages/pandas/util/_decorators.py:311: SettingWithCopyWarning: \n",
      "A value is trying to be set on a copy of a slice from a DataFrame\n",
      "\n",
      "See the caveats in the documentation: https://pandas.pydata.org/pandas-docs/stable/user_guide/indexing.html#returning-a-view-versus-a-copy\n",
      "  return func(*args, **kwargs)\n"
     ]
    }
   ],
   "source": [
    "df2_enc.dropna(inplace=True)"
   ]
  },
  {
   "cell_type": "markdown",
   "metadata": {},
   "source": [
    "In this and next cells I'm changing values manually, because I need the same values in dataset D1 and D2"
   ]
  },
  {
   "cell_type": "code",
   "execution_count": 30,
   "metadata": {},
   "outputs": [
    {
     "name": "stderr",
     "output_type": "stream",
     "text": [
      "/var/folders/4v/xsywxnxn2m9dymh3jjbqsvym0000gn/T/ipykernel_27316/1751418467.py:1: SettingWithCopyWarning: \n",
      "A value is trying to be set on a copy of a slice from a DataFrame\n",
      "\n",
      "See the caveats in the documentation: https://pandas.pydata.org/pandas-docs/stable/user_guide/indexing.html#returning-a-view-versus-a-copy\n",
      "  df2_enc.loc[99913,'ECO'] = 'D62'\n"
     ]
    }
   ],
   "source": [
    "df2_enc.loc[99913,'ECO'] = 'D62'\n",
    "df2_enc.loc[99914,'ECO'] = 'D98'\n",
    "df2_enc.loc[99915,'ECO'] = 'E57'"
   ]
  },
  {
   "cell_type": "code",
   "execution_count": 31,
   "metadata": {},
   "outputs": [
    {
     "data": {
      "text/html": [
       "<div>\n",
       "<style scoped>\n",
       "    .dataframe tbody tr th:only-of-type {\n",
       "        vertical-align: middle;\n",
       "    }\n",
       "\n",
       "    .dataframe tbody tr th {\n",
       "        vertical-align: top;\n",
       "    }\n",
       "\n",
       "    .dataframe thead th {\n",
       "        text-align: right;\n",
       "    }\n",
       "</style>\n",
       "<table border=\"1\" class=\"dataframe\">\n",
       "  <thead>\n",
       "    <tr style=\"text-align: right;\">\n",
       "      <th></th>\n",
       "      <th>Event</th>\n",
       "      <th>Result</th>\n",
       "      <th>BlackElo</th>\n",
       "      <th>ECO</th>\n",
       "      <th>Termination</th>\n",
       "      <th>TimeControl</th>\n",
       "      <th>WhiteElo</th>\n",
       "      <th>EloDiff</th>\n",
       "    </tr>\n",
       "  </thead>\n",
       "  <tbody>\n",
       "    <tr>\n",
       "      <th>99911</th>\n",
       "      <td>0.0</td>\n",
       "      <td>2.0</td>\n",
       "      <td>2440.0</td>\n",
       "      <td>B98</td>\n",
       "      <td>0.0</td>\n",
       "      <td>180.0</td>\n",
       "      <td>2414.0</td>\n",
       "      <td>-26.0</td>\n",
       "    </tr>\n",
       "    <tr>\n",
       "      <th>99912</th>\n",
       "      <td>0.0</td>\n",
       "      <td>1.0</td>\n",
       "      <td>2543.0</td>\n",
       "      <td>A56</td>\n",
       "      <td>1.0</td>\n",
       "      <td>180.0</td>\n",
       "      <td>2363.0</td>\n",
       "      <td>-180.0</td>\n",
       "    </tr>\n",
       "    <tr>\n",
       "      <th>99913</th>\n",
       "      <td>NaN</td>\n",
       "      <td>NaN</td>\n",
       "      <td>NaN</td>\n",
       "      <td>D62</td>\n",
       "      <td>NaN</td>\n",
       "      <td>NaN</td>\n",
       "      <td>NaN</td>\n",
       "      <td>NaN</td>\n",
       "    </tr>\n",
       "    <tr>\n",
       "      <th>99914</th>\n",
       "      <td>NaN</td>\n",
       "      <td>NaN</td>\n",
       "      <td>NaN</td>\n",
       "      <td>D98</td>\n",
       "      <td>NaN</td>\n",
       "      <td>NaN</td>\n",
       "      <td>NaN</td>\n",
       "      <td>NaN</td>\n",
       "    </tr>\n",
       "    <tr>\n",
       "      <th>99915</th>\n",
       "      <td>NaN</td>\n",
       "      <td>NaN</td>\n",
       "      <td>NaN</td>\n",
       "      <td>E57</td>\n",
       "      <td>NaN</td>\n",
       "      <td>NaN</td>\n",
       "      <td>NaN</td>\n",
       "      <td>NaN</td>\n",
       "    </tr>\n",
       "  </tbody>\n",
       "</table>\n",
       "</div>"
      ],
      "text/plain": [
       "       Event  Result  BlackElo  ECO  Termination  TimeControl  WhiteElo  \\\n",
       "99911    0.0     2.0    2440.0  B98          0.0        180.0    2414.0   \n",
       "99912    0.0     1.0    2543.0  A56          1.0        180.0    2363.0   \n",
       "99913    NaN     NaN       NaN  D62          NaN          NaN       NaN   \n",
       "99914    NaN     NaN       NaN  D98          NaN          NaN       NaN   \n",
       "99915    NaN     NaN       NaN  E57          NaN          NaN       NaN   \n",
       "\n",
       "       EloDiff  \n",
       "99911    -26.0  \n",
       "99912   -180.0  \n",
       "99913      NaN  \n",
       "99914      NaN  \n",
       "99915      NaN  "
      ]
     },
     "execution_count": 31,
     "metadata": {},
     "output_type": "execute_result"
    }
   ],
   "source": [
    "df2_enc.tail()"
   ]
  },
  {
   "cell_type": "code",
   "execution_count": 32,
   "metadata": {},
   "outputs": [
    {
     "name": "stdout",
     "output_type": "stream",
     "text": [
      "<class 'pandas.core.frame.DataFrame'>\n",
      "Int64Index: 98759 entries, 0 to 99915\n",
      "Data columns (total 8 columns):\n",
      " #   Column       Non-Null Count  Dtype  \n",
      "---  ------       --------------  -----  \n",
      " 0   Event        98756 non-null  float64\n",
      " 1   Result       98756 non-null  float64\n",
      " 2   BlackElo     98756 non-null  float64\n",
      " 3   ECO          98759 non-null  object \n",
      " 4   Termination  98756 non-null  float64\n",
      " 5   TimeControl  98756 non-null  float64\n",
      " 6   WhiteElo     98756 non-null  float64\n",
      " 7   EloDiff      98756 non-null  float64\n",
      "dtypes: float64(7), object(1)\n",
      "memory usage: 8.8+ MB\n"
     ]
    }
   ],
   "source": [
    "df2_enc.info()"
   ]
  },
  {
   "cell_type": "code",
   "execution_count": 33,
   "metadata": {},
   "outputs": [],
   "source": [
    "df2_enc['ECO_enc'] = labelencoder.fit_transform(df2_enc['ECO'])"
   ]
  },
  {
   "cell_type": "code",
   "execution_count": 34,
   "metadata": {},
   "outputs": [],
   "source": [
    "df2_enc.dropna(inplace=True)"
   ]
  },
  {
   "cell_type": "code",
   "execution_count": 35,
   "metadata": {},
   "outputs": [
    {
     "data": {
      "text/html": [
       "<div>\n",
       "<style scoped>\n",
       "    .dataframe tbody tr th:only-of-type {\n",
       "        vertical-align: middle;\n",
       "    }\n",
       "\n",
       "    .dataframe tbody tr th {\n",
       "        vertical-align: top;\n",
       "    }\n",
       "\n",
       "    .dataframe thead th {\n",
       "        text-align: right;\n",
       "    }\n",
       "</style>\n",
       "<table border=\"1\" class=\"dataframe\">\n",
       "  <thead>\n",
       "    <tr style=\"text-align: right;\">\n",
       "      <th></th>\n",
       "      <th>Event</th>\n",
       "      <th>Result</th>\n",
       "      <th>BlackElo</th>\n",
       "      <th>ECO</th>\n",
       "      <th>Termination</th>\n",
       "      <th>TimeControl</th>\n",
       "      <th>WhiteElo</th>\n",
       "      <th>EloDiff</th>\n",
       "      <th>ECO_enc</th>\n",
       "    </tr>\n",
       "  </thead>\n",
       "  <tbody>\n",
       "    <tr>\n",
       "      <th>99908</th>\n",
       "      <td>0.0</td>\n",
       "      <td>2.0</td>\n",
       "      <td>2462.0</td>\n",
       "      <td>B12</td>\n",
       "      <td>1.0</td>\n",
       "      <td>180.0</td>\n",
       "      <td>2467.0</td>\n",
       "      <td>5.0</td>\n",
       "      <td>112</td>\n",
       "    </tr>\n",
       "    <tr>\n",
       "      <th>99909</th>\n",
       "      <td>0.0</td>\n",
       "      <td>3.0</td>\n",
       "      <td>2477.0</td>\n",
       "      <td>A45</td>\n",
       "      <td>0.0</td>\n",
       "      <td>180.0</td>\n",
       "      <td>2484.0</td>\n",
       "      <td>7.0</td>\n",
       "      <td>45</td>\n",
       "    </tr>\n",
       "    <tr>\n",
       "      <th>99910</th>\n",
       "      <td>0.0</td>\n",
       "      <td>1.0</td>\n",
       "      <td>2295.0</td>\n",
       "      <td>A05</td>\n",
       "      <td>1.0</td>\n",
       "      <td>180.0</td>\n",
       "      <td>2511.0</td>\n",
       "      <td>216.0</td>\n",
       "      <td>5</td>\n",
       "    </tr>\n",
       "    <tr>\n",
       "      <th>99911</th>\n",
       "      <td>0.0</td>\n",
       "      <td>2.0</td>\n",
       "      <td>2440.0</td>\n",
       "      <td>B98</td>\n",
       "      <td>0.0</td>\n",
       "      <td>180.0</td>\n",
       "      <td>2414.0</td>\n",
       "      <td>-26.0</td>\n",
       "      <td>198</td>\n",
       "    </tr>\n",
       "    <tr>\n",
       "      <th>99912</th>\n",
       "      <td>0.0</td>\n",
       "      <td>1.0</td>\n",
       "      <td>2543.0</td>\n",
       "      <td>A56</td>\n",
       "      <td>1.0</td>\n",
       "      <td>180.0</td>\n",
       "      <td>2363.0</td>\n",
       "      <td>-180.0</td>\n",
       "      <td>56</td>\n",
       "    </tr>\n",
       "  </tbody>\n",
       "</table>\n",
       "</div>"
      ],
      "text/plain": [
       "       Event  Result  BlackElo  ECO  Termination  TimeControl  WhiteElo  \\\n",
       "99908    0.0     2.0    2462.0  B12          1.0        180.0    2467.0   \n",
       "99909    0.0     3.0    2477.0  A45          0.0        180.0    2484.0   \n",
       "99910    0.0     1.0    2295.0  A05          1.0        180.0    2511.0   \n",
       "99911    0.0     2.0    2440.0  B98          0.0        180.0    2414.0   \n",
       "99912    0.0     1.0    2543.0  A56          1.0        180.0    2363.0   \n",
       "\n",
       "       EloDiff  ECO_enc  \n",
       "99908      5.0      112  \n",
       "99909      7.0       45  \n",
       "99910    216.0        5  \n",
       "99911    -26.0      198  \n",
       "99912   -180.0       56  "
      ]
     },
     "execution_count": 35,
     "metadata": {},
     "output_type": "execute_result"
    }
   ],
   "source": [
    "df2_enc.tail()"
   ]
  },
  {
   "cell_type": "code",
   "execution_count": 36,
   "metadata": {},
   "outputs": [],
   "source": [
    "df2_enc['Event'] = df2_enc['Event'].astype('int64')\n",
    "df2_enc['Result'] = df2_enc['Result'].astype('int64')\n",
    "df2_enc['BlackElo'] = df2_enc['BlackElo'].astype('int64')\n",
    "df2_enc['Termination'] = df2_enc['Termination'].astype('int64')\n",
    "df2_enc['TimeControl'] = df2_enc['TimeControl'].astype('int64')\n",
    "df2_enc['WhiteElo'] = df2_enc['WhiteElo'].astype('int64')\n",
    "df2_enc['EloDiff'] = df2_enc['EloDiff'].astype('int64')"
   ]
  },
  {
   "cell_type": "code",
   "execution_count": 37,
   "metadata": {},
   "outputs": [],
   "source": [
    "df2_enc['TimeControl_enc'] = df2_enc['TimeControl']"
   ]
  },
  {
   "cell_type": "code",
   "execution_count": 38,
   "metadata": {},
   "outputs": [],
   "source": [
    "df2_enc['TimeControl_enc'] = df2_enc['TimeControl_enc'].replace(15, 34)\n",
    "df2_enc['TimeControl_enc'] = df2_enc['TimeControl_enc'].replace(60, 3)\n",
    "df2_enc['TimeControl_enc'] = df2_enc['TimeControl_enc'].replace(120, 5)\n",
    "df2_enc['TimeControl_enc'] = df2_enc['TimeControl_enc'].replace(180, 6)\n",
    "df2_enc['TimeControl_enc'] = df2_enc['TimeControl_enc'].replace(240, 7)\n",
    "df2_enc['TimeControl_enc'] = df2_enc['TimeControl_enc'].replace(300, 8)\n",
    "df2_enc['TimeControl_enc'] = df2_enc['TimeControl_enc'].replace(360, 9)\n",
    "df2_enc['TimeControl_enc'] = df2_enc['TimeControl_enc'].replace(420, 10)\n",
    "df2_enc['TimeControl_enc'] = df2_enc['TimeControl_enc'].replace(480, 11)\n",
    "df2_enc['TimeControl_enc'] = df2_enc['TimeControl_enc'].replace(600, 13)\n",
    "df2_enc['TimeControl_enc'] = df2_enc['TimeControl_enc'].replace(660, 14)\n",
    "df2_enc['TimeControl_enc'] = df2_enc['TimeControl_enc'].replace(780, 16)\n",
    "df2_enc['TimeControl_enc'] = df2_enc['TimeControl_enc'].replace(840, 17)\n",
    "df2_enc['TimeControl_enc'] = df2_enc['TimeControl_enc'].replace(900, 18)\n",
    "df2_enc['TimeControl_enc'] = df2_enc['TimeControl_enc'].replace(1200, 23)\n",
    "df2_enc['TimeControl_enc'] = df2_enc['TimeControl_enc'].replace(1500, 24)\n",
    "df2_enc['TimeControl_enc'] = df2_enc['TimeControl_enc'].replace(1800, 25)\n",
    "df2_enc['TimeControl_enc'] = df2_enc['TimeControl_enc'].replace(2700, 28)\n",
    "df2_enc['TimeControl_enc'] = df2_enc['TimeControl_enc'].replace(5400, 30)"
   ]
  },
  {
   "cell_type": "code",
   "execution_count": 39,
   "metadata": {},
   "outputs": [
    {
     "data": {
      "text/html": [
       "<div>\n",
       "<style scoped>\n",
       "    .dataframe tbody tr th:only-of-type {\n",
       "        vertical-align: middle;\n",
       "    }\n",
       "\n",
       "    .dataframe tbody tr th {\n",
       "        vertical-align: top;\n",
       "    }\n",
       "\n",
       "    .dataframe thead th {\n",
       "        text-align: right;\n",
       "    }\n",
       "</style>\n",
       "<table border=\"1\" class=\"dataframe\">\n",
       "  <thead>\n",
       "    <tr style=\"text-align: right;\">\n",
       "      <th></th>\n",
       "      <th>Event</th>\n",
       "      <th>Result</th>\n",
       "      <th>BlackElo</th>\n",
       "      <th>ECO</th>\n",
       "      <th>Termination</th>\n",
       "      <th>TimeControl</th>\n",
       "      <th>WhiteElo</th>\n",
       "      <th>EloDiff</th>\n",
       "      <th>ECO_enc</th>\n",
       "      <th>TimeControl_enc</th>\n",
       "    </tr>\n",
       "  </thead>\n",
       "  <tbody>\n",
       "    <tr>\n",
       "      <th>0</th>\n",
       "      <td>0</td>\n",
       "      <td>1</td>\n",
       "      <td>2218</td>\n",
       "      <td>C00</td>\n",
       "      <td>1</td>\n",
       "      <td>180</td>\n",
       "      <td>2460</td>\n",
       "      <td>242</td>\n",
       "      <td>200</td>\n",
       "      <td>6</td>\n",
       "    </tr>\n",
       "    <tr>\n",
       "      <th>1</th>\n",
       "      <td>0</td>\n",
       "      <td>1</td>\n",
       "      <td>2424</td>\n",
       "      <td>E90</td>\n",
       "      <td>0</td>\n",
       "      <td>180</td>\n",
       "      <td>2428</td>\n",
       "      <td>4</td>\n",
       "      <td>483</td>\n",
       "      <td>6</td>\n",
       "    </tr>\n",
       "    <tr>\n",
       "      <th>2</th>\n",
       "      <td>4</td>\n",
       "      <td>1</td>\n",
       "      <td>2300</td>\n",
       "      <td>B06</td>\n",
       "      <td>0</td>\n",
       "      <td>600</td>\n",
       "      <td>2441</td>\n",
       "      <td>141</td>\n",
       "      <td>106</td>\n",
       "      <td>13</td>\n",
       "    </tr>\n",
       "    <tr>\n",
       "      <th>3</th>\n",
       "      <td>0</td>\n",
       "      <td>2</td>\n",
       "      <td>2667</td>\n",
       "      <td>E71</td>\n",
       "      <td>0</td>\n",
       "      <td>180</td>\n",
       "      <td>2280</td>\n",
       "      <td>-387</td>\n",
       "      <td>464</td>\n",
       "      <td>6</td>\n",
       "    </tr>\n",
       "    <tr>\n",
       "      <th>4</th>\n",
       "      <td>0</td>\n",
       "      <td>1</td>\n",
       "      <td>2682</td>\n",
       "      <td>A41</td>\n",
       "      <td>0</td>\n",
       "      <td>180</td>\n",
       "      <td>2557</td>\n",
       "      <td>-125</td>\n",
       "      <td>41</td>\n",
       "      <td>6</td>\n",
       "    </tr>\n",
       "  </tbody>\n",
       "</table>\n",
       "</div>"
      ],
      "text/plain": [
       "   Event  Result  BlackElo  ECO  Termination  TimeControl  WhiteElo  EloDiff  \\\n",
       "0      0       1      2218  C00            1          180      2460      242   \n",
       "1      0       1      2424  E90            0          180      2428        4   \n",
       "2      4       1      2300  B06            0          600      2441      141   \n",
       "3      0       2      2667  E71            0          180      2280     -387   \n",
       "4      0       1      2682  A41            0          180      2557     -125   \n",
       "\n",
       "   ECO_enc  TimeControl_enc  \n",
       "0      200                6  \n",
       "1      483                6  \n",
       "2      106               13  \n",
       "3      464                6  \n",
       "4       41                6  "
      ]
     },
     "execution_count": 39,
     "metadata": {},
     "output_type": "execute_result"
    }
   ],
   "source": [
    "df2_enc.head()"
   ]
  },
  {
   "cell_type": "code",
   "execution_count": 40,
   "metadata": {},
   "outputs": [
    {
     "data": {
      "text/html": [
       "<div>\n",
       "<style scoped>\n",
       "    .dataframe tbody tr th:only-of-type {\n",
       "        vertical-align: middle;\n",
       "    }\n",
       "\n",
       "    .dataframe tbody tr th {\n",
       "        vertical-align: top;\n",
       "    }\n",
       "\n",
       "    .dataframe thead th {\n",
       "        text-align: right;\n",
       "    }\n",
       "</style>\n",
       "<table border=\"1\" class=\"dataframe\">\n",
       "  <thead>\n",
       "    <tr style=\"text-align: right;\">\n",
       "      <th></th>\n",
       "      <th>Result</th>\n",
       "      <th>WhiteElo</th>\n",
       "      <th>BlackElo</th>\n",
       "      <th>EloDiff</th>\n",
       "      <th>Event</th>\n",
       "      <th>ECO_enc</th>\n",
       "      <th>Termination</th>\n",
       "      <th>TimeControl_enc</th>\n",
       "    </tr>\n",
       "  </thead>\n",
       "  <tbody>\n",
       "    <tr>\n",
       "      <th>0</th>\n",
       "      <td>1</td>\n",
       "      <td>2460</td>\n",
       "      <td>2218</td>\n",
       "      <td>242</td>\n",
       "      <td>0</td>\n",
       "      <td>200</td>\n",
       "      <td>1</td>\n",
       "      <td>6</td>\n",
       "    </tr>\n",
       "    <tr>\n",
       "      <th>1</th>\n",
       "      <td>1</td>\n",
       "      <td>2428</td>\n",
       "      <td>2424</td>\n",
       "      <td>4</td>\n",
       "      <td>0</td>\n",
       "      <td>483</td>\n",
       "      <td>0</td>\n",
       "      <td>6</td>\n",
       "    </tr>\n",
       "    <tr>\n",
       "      <th>2</th>\n",
       "      <td>1</td>\n",
       "      <td>2441</td>\n",
       "      <td>2300</td>\n",
       "      <td>141</td>\n",
       "      <td>4</td>\n",
       "      <td>106</td>\n",
       "      <td>0</td>\n",
       "      <td>13</td>\n",
       "    </tr>\n",
       "    <tr>\n",
       "      <th>3</th>\n",
       "      <td>2</td>\n",
       "      <td>2280</td>\n",
       "      <td>2667</td>\n",
       "      <td>-387</td>\n",
       "      <td>0</td>\n",
       "      <td>464</td>\n",
       "      <td>0</td>\n",
       "      <td>6</td>\n",
       "    </tr>\n",
       "    <tr>\n",
       "      <th>4</th>\n",
       "      <td>1</td>\n",
       "      <td>2557</td>\n",
       "      <td>2682</td>\n",
       "      <td>-125</td>\n",
       "      <td>0</td>\n",
       "      <td>41</td>\n",
       "      <td>0</td>\n",
       "      <td>6</td>\n",
       "    </tr>\n",
       "    <tr>\n",
       "      <th>...</th>\n",
       "      <td>...</td>\n",
       "      <td>...</td>\n",
       "      <td>...</td>\n",
       "      <td>...</td>\n",
       "      <td>...</td>\n",
       "      <td>...</td>\n",
       "      <td>...</td>\n",
       "      <td>...</td>\n",
       "    </tr>\n",
       "    <tr>\n",
       "      <th>99908</th>\n",
       "      <td>2</td>\n",
       "      <td>2467</td>\n",
       "      <td>2462</td>\n",
       "      <td>5</td>\n",
       "      <td>0</td>\n",
       "      <td>112</td>\n",
       "      <td>1</td>\n",
       "      <td>6</td>\n",
       "    </tr>\n",
       "    <tr>\n",
       "      <th>99909</th>\n",
       "      <td>3</td>\n",
       "      <td>2484</td>\n",
       "      <td>2477</td>\n",
       "      <td>7</td>\n",
       "      <td>0</td>\n",
       "      <td>45</td>\n",
       "      <td>0</td>\n",
       "      <td>6</td>\n",
       "    </tr>\n",
       "    <tr>\n",
       "      <th>99910</th>\n",
       "      <td>1</td>\n",
       "      <td>2511</td>\n",
       "      <td>2295</td>\n",
       "      <td>216</td>\n",
       "      <td>0</td>\n",
       "      <td>5</td>\n",
       "      <td>1</td>\n",
       "      <td>6</td>\n",
       "    </tr>\n",
       "    <tr>\n",
       "      <th>99911</th>\n",
       "      <td>2</td>\n",
       "      <td>2414</td>\n",
       "      <td>2440</td>\n",
       "      <td>-26</td>\n",
       "      <td>0</td>\n",
       "      <td>198</td>\n",
       "      <td>0</td>\n",
       "      <td>6</td>\n",
       "    </tr>\n",
       "    <tr>\n",
       "      <th>99912</th>\n",
       "      <td>1</td>\n",
       "      <td>2363</td>\n",
       "      <td>2543</td>\n",
       "      <td>-180</td>\n",
       "      <td>0</td>\n",
       "      <td>56</td>\n",
       "      <td>1</td>\n",
       "      <td>6</td>\n",
       "    </tr>\n",
       "  </tbody>\n",
       "</table>\n",
       "<p>98756 rows × 8 columns</p>\n",
       "</div>"
      ],
      "text/plain": [
       "       Result  WhiteElo  BlackElo  EloDiff  Event  ECO_enc  Termination  \\\n",
       "0           1      2460      2218      242      0      200            1   \n",
       "1           1      2428      2424        4      0      483            0   \n",
       "2           1      2441      2300      141      4      106            0   \n",
       "3           2      2280      2667     -387      0      464            0   \n",
       "4           1      2557      2682     -125      0       41            0   \n",
       "...       ...       ...       ...      ...    ...      ...          ...   \n",
       "99908       2      2467      2462        5      0      112            1   \n",
       "99909       3      2484      2477        7      0       45            0   \n",
       "99910       1      2511      2295      216      0        5            1   \n",
       "99911       2      2414      2440      -26      0      198            0   \n",
       "99912       1      2363      2543     -180      0       56            1   \n",
       "\n",
       "       TimeControl_enc  \n",
       "0                    6  \n",
       "1                    6  \n",
       "2                   13  \n",
       "3                    6  \n",
       "4                    6  \n",
       "...                ...  \n",
       "99908                6  \n",
       "99909                6  \n",
       "99910                6  \n",
       "99911                6  \n",
       "99912                6  \n",
       "\n",
       "[98756 rows x 8 columns]"
      ]
     },
     "execution_count": 40,
     "metadata": {},
     "output_type": "execute_result"
    }
   ],
   "source": [
    "df2_final = df2_enc[['Result','WhiteElo','BlackElo','EloDiff','Event','ECO_enc','Termination','TimeControl_enc']]\n",
    "df2_final"
   ]
  },
  {
   "cell_type": "code",
   "execution_count": 41,
   "metadata": {},
   "outputs": [],
   "source": [
    "df2_final.to_csv('../csv/d2_final.csv')"
   ]
  }
 ],
 "metadata": {
  "interpreter": {
   "hash": "32ee103e807441b8b43ef544df75b395a3ebfbafac956e5e2fedbb31b18d2dc5"
  },
  "kernelspec": {
   "display_name": "Python 3.9.7 64-bit ('kamil': conda)",
   "language": "python",
   "name": "python3"
  },
  "language_info": {
   "codemirror_mode": {
    "name": "ipython",
    "version": 3
   },
   "file_extension": ".py",
   "mimetype": "text/x-python",
   "name": "python",
   "nbconvert_exporter": "python",
   "pygments_lexer": "ipython3",
   "version": "3.9.7"
  },
  "orig_nbformat": 4
 },
 "nbformat": 4,
 "nbformat_minor": 2
}
